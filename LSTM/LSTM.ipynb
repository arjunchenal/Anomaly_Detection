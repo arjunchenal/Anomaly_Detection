{
  "nbformat": 4,
  "nbformat_minor": 0,
  "metadata": {
    "colab": {
      "provenance": []
    },
    "kernelspec": {
      "name": "python3",
      "display_name": "Python 3"
    },
    "language_info": {
      "name": "python"
    }
  },
  "cells": [
    {
      "cell_type": "code",
      "execution_count": 1,
      "metadata": {
        "colab": {
          "base_uri": "https://localhost:8080/",
          "height": 218
        },
        "id": "cGfPb9UqIORz",
        "outputId": "f58549c4-9bef-48c3-84b9-8db5ddf472ae"
      },
      "outputs": [
        {
          "output_type": "stream",
          "name": "stdout",
          "text": [
            "Directory cleared. Current contents: ['.config', 'sample_data']\n"
          ]
        },
        {
          "output_type": "display_data",
          "data": {
            "text/plain": [
              "<IPython.core.display.HTML object>"
            ],
            "text/html": [
              "\n",
              "     <input type=\"file\" id=\"files-8158d562-452c-4632-92b1-c3b7314de46b\" name=\"files[]\" multiple disabled\n",
              "        style=\"border:none\" />\n",
              "     <output id=\"result-8158d562-452c-4632-92b1-c3b7314de46b\">\n",
              "      Upload widget is only available when the cell has been executed in the\n",
              "      current browser session. Please rerun this cell to enable.\n",
              "      </output>\n",
              "      <script>// Copyright 2017 Google LLC\n",
              "//\n",
              "// Licensed under the Apache License, Version 2.0 (the \"License\");\n",
              "// you may not use this file except in compliance with the License.\n",
              "// You may obtain a copy of the License at\n",
              "//\n",
              "//      http://www.apache.org/licenses/LICENSE-2.0\n",
              "//\n",
              "// Unless required by applicable law or agreed to in writing, software\n",
              "// distributed under the License is distributed on an \"AS IS\" BASIS,\n",
              "// WITHOUT WARRANTIES OR CONDITIONS OF ANY KIND, either express or implied.\n",
              "// See the License for the specific language governing permissions and\n",
              "// limitations under the License.\n",
              "\n",
              "/**\n",
              " * @fileoverview Helpers for google.colab Python module.\n",
              " */\n",
              "(function(scope) {\n",
              "function span(text, styleAttributes = {}) {\n",
              "  const element = document.createElement('span');\n",
              "  element.textContent = text;\n",
              "  for (const key of Object.keys(styleAttributes)) {\n",
              "    element.style[key] = styleAttributes[key];\n",
              "  }\n",
              "  return element;\n",
              "}\n",
              "\n",
              "// Max number of bytes which will be uploaded at a time.\n",
              "const MAX_PAYLOAD_SIZE = 100 * 1024;\n",
              "\n",
              "function _uploadFiles(inputId, outputId) {\n",
              "  const steps = uploadFilesStep(inputId, outputId);\n",
              "  const outputElement = document.getElementById(outputId);\n",
              "  // Cache steps on the outputElement to make it available for the next call\n",
              "  // to uploadFilesContinue from Python.\n",
              "  outputElement.steps = steps;\n",
              "\n",
              "  return _uploadFilesContinue(outputId);\n",
              "}\n",
              "\n",
              "// This is roughly an async generator (not supported in the browser yet),\n",
              "// where there are multiple asynchronous steps and the Python side is going\n",
              "// to poll for completion of each step.\n",
              "// This uses a Promise to block the python side on completion of each step,\n",
              "// then passes the result of the previous step as the input to the next step.\n",
              "function _uploadFilesContinue(outputId) {\n",
              "  const outputElement = document.getElementById(outputId);\n",
              "  const steps = outputElement.steps;\n",
              "\n",
              "  const next = steps.next(outputElement.lastPromiseValue);\n",
              "  return Promise.resolve(next.value.promise).then((value) => {\n",
              "    // Cache the last promise value to make it available to the next\n",
              "    // step of the generator.\n",
              "    outputElement.lastPromiseValue = value;\n",
              "    return next.value.response;\n",
              "  });\n",
              "}\n",
              "\n",
              "/**\n",
              " * Generator function which is called between each async step of the upload\n",
              " * process.\n",
              " * @param {string} inputId Element ID of the input file picker element.\n",
              " * @param {string} outputId Element ID of the output display.\n",
              " * @return {!Iterable<!Object>} Iterable of next steps.\n",
              " */\n",
              "function* uploadFilesStep(inputId, outputId) {\n",
              "  const inputElement = document.getElementById(inputId);\n",
              "  inputElement.disabled = false;\n",
              "\n",
              "  const outputElement = document.getElementById(outputId);\n",
              "  outputElement.innerHTML = '';\n",
              "\n",
              "  const pickedPromise = new Promise((resolve) => {\n",
              "    inputElement.addEventListener('change', (e) => {\n",
              "      resolve(e.target.files);\n",
              "    });\n",
              "  });\n",
              "\n",
              "  const cancel = document.createElement('button');\n",
              "  inputElement.parentElement.appendChild(cancel);\n",
              "  cancel.textContent = 'Cancel upload';\n",
              "  const cancelPromise = new Promise((resolve) => {\n",
              "    cancel.onclick = () => {\n",
              "      resolve(null);\n",
              "    };\n",
              "  });\n",
              "\n",
              "  // Wait for the user to pick the files.\n",
              "  const files = yield {\n",
              "    promise: Promise.race([pickedPromise, cancelPromise]),\n",
              "    response: {\n",
              "      action: 'starting',\n",
              "    }\n",
              "  };\n",
              "\n",
              "  cancel.remove();\n",
              "\n",
              "  // Disable the input element since further picks are not allowed.\n",
              "  inputElement.disabled = true;\n",
              "\n",
              "  if (!files) {\n",
              "    return {\n",
              "      response: {\n",
              "        action: 'complete',\n",
              "      }\n",
              "    };\n",
              "  }\n",
              "\n",
              "  for (const file of files) {\n",
              "    const li = document.createElement('li');\n",
              "    li.append(span(file.name, {fontWeight: 'bold'}));\n",
              "    li.append(span(\n",
              "        `(${file.type || 'n/a'}) - ${file.size} bytes, ` +\n",
              "        `last modified: ${\n",
              "            file.lastModifiedDate ? file.lastModifiedDate.toLocaleDateString() :\n",
              "                                    'n/a'} - `));\n",
              "    const percent = span('0% done');\n",
              "    li.appendChild(percent);\n",
              "\n",
              "    outputElement.appendChild(li);\n",
              "\n",
              "    const fileDataPromise = new Promise((resolve) => {\n",
              "      const reader = new FileReader();\n",
              "      reader.onload = (e) => {\n",
              "        resolve(e.target.result);\n",
              "      };\n",
              "      reader.readAsArrayBuffer(file);\n",
              "    });\n",
              "    // Wait for the data to be ready.\n",
              "    let fileData = yield {\n",
              "      promise: fileDataPromise,\n",
              "      response: {\n",
              "        action: 'continue',\n",
              "      }\n",
              "    };\n",
              "\n",
              "    // Use a chunked sending to avoid message size limits. See b/62115660.\n",
              "    let position = 0;\n",
              "    do {\n",
              "      const length = Math.min(fileData.byteLength - position, MAX_PAYLOAD_SIZE);\n",
              "      const chunk = new Uint8Array(fileData, position, length);\n",
              "      position += length;\n",
              "\n",
              "      const base64 = btoa(String.fromCharCode.apply(null, chunk));\n",
              "      yield {\n",
              "        response: {\n",
              "          action: 'append',\n",
              "          file: file.name,\n",
              "          data: base64,\n",
              "        },\n",
              "      };\n",
              "\n",
              "      let percentDone = fileData.byteLength === 0 ?\n",
              "          100 :\n",
              "          Math.round((position / fileData.byteLength) * 100);\n",
              "      percent.textContent = `${percentDone}% done`;\n",
              "\n",
              "    } while (position < fileData.byteLength);\n",
              "  }\n",
              "\n",
              "  // All done.\n",
              "  yield {\n",
              "    response: {\n",
              "      action: 'complete',\n",
              "    }\n",
              "  };\n",
              "}\n",
              "\n",
              "scope.google = scope.google || {};\n",
              "scope.google.colab = scope.google.colab || {};\n",
              "scope.google.colab._files = {\n",
              "  _uploadFiles,\n",
              "  _uploadFilesContinue,\n",
              "};\n",
              "})(self);\n",
              "</script> "
            ]
          },
          "metadata": {}
        },
        {
          "output_type": "stream",
          "name": "stdout",
          "text": [
            "Saving anomaly_detection.py to anomaly_detection.py\n",
            "Saving theft_protection.zip to theft_protection.zip\n",
            "Saving utils.py to utils.py\n",
            "Contents of theft_protection.zip:\n",
            "['single_thread/.DS_Store', 'single_thread/version description.rtf', 'single_thread/version_1.1/', 'single_thread/version_1.1/.DS_Store', 'single_thread/version_1.1/normal/', 'single_thread/version_1.1/normal/log1', 'single_thread/version_1.1/normal/log2', 'single_thread/version_1.1/normal/log3', 'single_thread/version_1.1/normal/log4', 'single_thread/version_1.1/normal/log5', 'single_thread/version_1.1/normal/log6', 'single_thread/version_1.1/normal/trace1', 'single_thread/version_1.1/normal/trace2', 'single_thread/version_1.1/normal/trace3', 'single_thread/version_1.1/normal/trace4', 'single_thread/version_1.1/normal/trace5', 'single_thread/version_1.1/normal/trace6', 'single_thread/version_1.1/semantic_error/', 'single_thread/version_1.1/semantic_error/log1', 'single_thread/version_1.1/semantic_error/log2', 'single_thread/version_1.1/semantic_error/log3', 'single_thread/version_1.1/semantic_error/log4', 'single_thread/version_1.1/semantic_error/log5', 'single_thread/version_1.1/semantic_error/log6', 'single_thread/version_1.1/semantic_error/log7', 'single_thread/version_1.1/semantic_error/trace1', 'single_thread/version_1.1/semantic_error/trace2', 'single_thread/version_1.1/semantic_error/trace3', 'single_thread/version_1.1/semantic_error/trace4', 'single_thread/version_1.1/semantic_error/trace5', 'single_thread/version_1.1/semantic_error/trace6', 'single_thread/version_1.1/semantic_error/trace7', 'single_thread/version_1.2/', 'single_thread/version_1.2/.DS_Store', 'single_thread/version_1.2/normal/', 'single_thread/version_1.2/normal/.DS_Store', 'single_thread/version_1.2/normal/log1', 'single_thread/version_1.2/normal/log2', 'single_thread/version_1.2/normal/log3', 'single_thread/version_1.2/normal/log4', 'single_thread/version_1.2/normal/trace1', 'single_thread/version_1.2/normal/trace2', 'single_thread/version_1.2/normal/trace3', 'single_thread/version_1.2/normal/trace4', 'single_thread/version_1.3/', 'single_thread/version_1.3/.DS_Store', 'single_thread/version_1.3/normal/', 'single_thread/version_1.3/normal/log1', 'single_thread/version_1.3/normal/log2', 'single_thread/version_1.3/normal/log3', 'single_thread/version_1.3/normal/log4', 'single_thread/version_1.3/normal/trace1', 'single_thread/version_1.3/normal/trace2', 'single_thread/version_1.3/normal/trace3', 'single_thread/version_1.3/normal/trace4', 'single_thread/version_1/', 'single_thread/version_1/.DS_Store', 'single_thread/version_1/normal/', 'single_thread/version_1/normal/.DS_Store', 'single_thread/version_1/normal/arcive/', 'single_thread/version_1/normal/arcive/log0', 'single_thread/version_1/normal/arcive/log1', 'single_thread/version_1/normal/arcive/log2', 'single_thread/version_1/normal/arcive/log3', 'single_thread/version_1/normal/arcive/trace0', 'single_thread/version_1/normal/arcive/trace1', 'single_thread/version_1/normal/arcive/trace2', 'single_thread/version_1/normal/arcive/trace3', 'single_thread/version_1/normal/log00', 'single_thread/version_1/normal/log01', 'single_thread/version_1/normal/log02', 'single_thread/version_1/normal/log03', 'single_thread/version_1/normal/log10', 'single_thread/version_1/normal/log11', 'single_thread/version_1/normal/log12', 'single_thread/version_1/normal/log4', 'single_thread/version_1/normal/log5', 'single_thread/version_1/normal/log6', 'single_thread/version_1/normal/log7', 'single_thread/version_1/normal/log8', 'single_thread/version_1/normal/log9', 'single_thread/version_1/normal/trace00', 'single_thread/version_1/normal/trace01', 'single_thread/version_1/normal/trace02', 'single_thread/version_1/normal/trace03', 'single_thread/version_1/normal/trace10', 'single_thread/version_1/normal/trace11', 'single_thread/version_1/normal/trace12', 'single_thread/version_1/normal/trace4', 'single_thread/version_1/normal/trace5', 'single_thread/version_1/normal/trace6', 'single_thread/version_1/normal/trace7', 'single_thread/version_1/normal/trace8', 'single_thread/version_1/normal/trace9', 'single_thread/version_1/semantic_error/', 'single_thread/version_1/semantic_error/.DS_Store', 'single_thread/version_1/semantic_error/log0', 'single_thread/version_1/semantic_error/log1', 'single_thread/version_1/semantic_error/log10', 'single_thread/version_1/semantic_error/log11', 'single_thread/version_1/semantic_error/log12', 'single_thread/version_1/semantic_error/log13', 'single_thread/version_1/semantic_error/log14', 'single_thread/version_1/semantic_error/log15', 'single_thread/version_1/semantic_error/log16', 'single_thread/version_1/semantic_error/log2', 'single_thread/version_1/semantic_error/log3', 'single_thread/version_1/semantic_error/log4', 'single_thread/version_1/semantic_error/log5', 'single_thread/version_1/semantic_error/log6', 'single_thread/version_1/semantic_error/log7', 'single_thread/version_1/semantic_error/log8', 'single_thread/version_1/semantic_error/log9', 'single_thread/version_1/semantic_error/trace0', 'single_thread/version_1/semantic_error/trace1', 'single_thread/version_1/semantic_error/trace10', 'single_thread/version_1/semantic_error/trace11', 'single_thread/version_1/semantic_error/trace12', 'single_thread/version_1/semantic_error/trace13', 'single_thread/version_1/semantic_error/trace14', 'single_thread/version_1/semantic_error/trace15', 'single_thread/version_1/semantic_error/trace16', 'single_thread/version_1/semantic_error/trace17', 'single_thread/version_1/semantic_error/trace18', 'single_thread/version_1/semantic_error/trace2', 'single_thread/version_1/semantic_error/trace3', 'single_thread/version_1/semantic_error/trace4', 'single_thread/version_1/semantic_error/trace5', 'single_thread/version_1/semantic_error/trace6', 'single_thread/version_1/semantic_error/trace7', 'single_thread/version_1/semantic_error/trace8', 'single_thread/version_1/semantic_error/trace9', 'single_thread/version_2.1/', 'single_thread/version_2.1/.DS_Store', 'single_thread/version_2.1/normal/', 'single_thread/version_2.1/normal/log2', 'single_thread/version_2.1/normal/log3', 'single_thread/version_2.1/normal/trace2', 'single_thread/version_2.1/normal/trace3', 'single_thread/version_2.2/', 'single_thread/version_2.2/.DS_Store', 'single_thread/version_2.2/faulty_data/', 'single_thread/version_2.2/faulty_data/.DS_Store', 'single_thread/version_2.2/faulty_data/log1-comm', 'single_thread/version_2.2/faulty_data/log2-bitflip', 'single_thread/version_2.2/faulty_data/log3-sensor', 'single_thread/version_2.2/faulty_data/temp_log1', 'single_thread/version_2.2/faulty_data/temp_log2', 'single_thread/version_2.2/faulty_data/trace1-comm', 'single_thread/version_2.2/faulty_data/trace2-bitflip', 'single_thread/version_2.2/faulty_data/trace3-sensor', 'single_thread/version_2.2/faulty_data/traceback-log2.txt', 'single_thread/version_2.2/faulty_data/traceback-log3.txt', 'single_thread/version_2.2/normal/', 'single_thread/version_2.2/normal/log1', 'single_thread/version_2.2/normal/log2', 'single_thread/version_2.2/normal/log3', 'single_thread/version_2.2/normal/trace1', 'single_thread/version_2.2/normal/trace2', 'single_thread/version_2.2/normal/trace3', 'single_thread/version_2.2/normal/traceback.txt', 'single_thread/version_2/', 'single_thread/version_2/.DS_Store', 'single_thread/version_2/faulty_sensor/', 'single_thread/version_2/faulty_sensor/log10', 'single_thread/version_2/faulty_sensor/log8', 'single_thread/version_2/faulty_sensor/log9', 'single_thread/version_2/faulty_sensor/trace10', 'single_thread/version_2/faulty_sensor/trace8', 'single_thread/version_2/faulty_sensor/trace9', 'single_thread/version_2/noisy_channel/', 'single_thread/version_2/noisy_channel/log4', 'single_thread/version_2/noisy_channel/log5', 'single_thread/version_2/noisy_channel/log7', 'single_thread/version_2/noisy_channel/trace4', 'single_thread/version_2/noisy_channel/trace5', 'single_thread/version_2/noisy_channel/trace7', 'single_thread/version_2/normal/', 'single_thread/version_2/normal/.DS_Store', 'single_thread/version_2/normal/log1', 'single_thread/version_2/normal/log2', 'single_thread/version_2/normal/log3', 'single_thread/version_2/normal/trace1', 'single_thread/version_2/normal/trace2', 'single_thread/version_2/normal/trace3', 'single_thread/version_2/semantic_err/', 'single_thread/version_2/semantic_err/log1', 'single_thread/version_2/semantic_err/log2', 'single_thread/version_2/semantic_err/log3', 'single_thread/version_2/semantic_err/trace1', 'single_thread/version_2/semantic_err/trace2', 'single_thread/version_2/semantic_err/trace3', 'single_thread/version_2/unexpected_crash/', 'single_thread/version_2/unexpected_crash/log11', 'single_thread/version_2/unexpected_crash/log12', 'single_thread/version_2/unexpected_crash/log6', 'single_thread/version_2/unexpected_crash/trace11', 'single_thread/version_2/unexpected_crash/trace12', 'single_thread/version_2/unexpected_crash/trace6', 'single_thread/version_2/unexpected_crash/traceback.txt', 'single_thread/version_2/wrong_txinter/', 'single_thread/version_2/wrong_txinter/log1', 'single_thread/version_2/wrong_txinter/log2', 'single_thread/version_2/wrong_txinter/log3', 'single_thread/version_2/wrong_txinter/trace1', 'single_thread/version_2/wrong_txinter/trace2', 'single_thread/version_2/wrong_txinter/trace3', 'single_thread/version_3/', 'single_thread/version_3/.DS_Store', 'single_thread/version_3/faulty_data/', 'single_thread/version_3/faulty_data/.DS_Store', 'single_thread/version_3/faulty_data/ei_detections/', 'single_thread/version_3/faulty_data/ei_detections/trace_trial1_ei_detections_0.json', 'single_thread/version_3/faulty_data/ei_detections/trace_trial1_ei_detections_1.json', 'single_thread/version_3/faulty_data/ei_detections/trace_trial1_ei_detections_2.json', 'single_thread/version_3/faulty_data/ei_detections/trace_trial1_ei_detections_5.json', 'single_thread/version_3/faulty_data/ei_detections/trace_trial1_fp_ei_detections_0.json', 'single_thread/version_3/faulty_data/ei_detections/trace_trial1_fp_ei_detections_1.json', 'single_thread/version_3/faulty_data/ei_detections/trace_trial1_fp_ei_detections_2.json', 'single_thread/version_3/faulty_data/ei_detections/trace_trial1_fp_ei_detections_5.json', 'single_thread/version_3/faulty_data/ei_detections/trace_trial1_tp_ei_detections_0.json', 'single_thread/version_3/faulty_data/ei_detections/trace_trial1_tp_ei_detections_1.json', 'single_thread/version_3/faulty_data/ei_detections/trace_trial1_tp_ei_detections_2.json', 'single_thread/version_3/faulty_data/ei_detections/trace_trial1_tp_ei_detections_5.json', 'single_thread/version_3/faulty_data/ei_detections/trace_trial2_ei_detections_0.json', 'single_thread/version_3/faulty_data/ei_detections/trace_trial2_ei_detections_1.json', 'single_thread/version_3/faulty_data/ei_detections/trace_trial2_ei_detections_2.json', 'single_thread/version_3/faulty_data/ei_detections/trace_trial2_ei_detections_5.json', 'single_thread/version_3/faulty_data/ei_detections/trace_trial2_fp_ei_detections_0.json', 'single_thread/version_3/faulty_data/ei_detections/trace_trial2_fp_ei_detections_1.json', 'single_thread/version_3/faulty_data/ei_detections/trace_trial2_fp_ei_detections_2.json', 'single_thread/version_3/faulty_data/ei_detections/trace_trial2_fp_ei_detections_5.json', 'single_thread/version_3/faulty_data/ei_detections/trace_trial2_tp_ei_detections_0.json', 'single_thread/version_3/faulty_data/ei_detections/trace_trial2_tp_ei_detections_1.json', 'single_thread/version_3/faulty_data/ei_detections/trace_trial2_tp_ei_detections_2.json', 'single_thread/version_3/faulty_data/ei_detections/trace_trial2_tp_ei_detections_5.json', 'single_thread/version_3/faulty_data/ei_detections/trace_trial3_ei_detections_0.json', 'single_thread/version_3/faulty_data/ei_detections/trace_trial3_ei_detections_1.json', 'single_thread/version_3/faulty_data/ei_detections/trace_trial3_ei_detections_2.json', 'single_thread/version_3/faulty_data/ei_detections/trace_trial3_ei_detections_5.json', 'single_thread/version_3/faulty_data/ei_detections/trace_trial3_fp_ei_detections_0.json', 'single_thread/version_3/faulty_data/ei_detections/trace_trial3_fp_ei_detections_1.json', 'single_thread/version_3/faulty_data/ei_detections/trace_trial3_fp_ei_detections_2.json', 'single_thread/version_3/faulty_data/ei_detections/trace_trial3_fp_ei_detections_5.json', 'single_thread/version_3/faulty_data/ei_detections/trace_trial3_tp_ei_detections_0.json', 'single_thread/version_3/faulty_data/ei_detections/trace_trial3_tp_ei_detections_1.json', 'single_thread/version_3/faulty_data/ei_detections/trace_trial3_tp_ei_detections_2.json', 'single_thread/version_3/faulty_data/ei_detections/trace_trial3_tp_ei_detections_5.json', 'single_thread/version_3/faulty_data/faults list.rtf', 'single_thread/version_3/faulty_data/labels backup/', 'single_thread/version_3/faulty_data/labels backup/trace_trial1_labels.json', 'single_thread/version_3/faulty_data/labels backup/trace_trial2_labels.json', 'single_thread/version_3/faulty_data/labels backup/trace_trial3_labels.json', 'single_thread/version_3/faulty_data/labels/', 'single_thread/version_3/faulty_data/labels/trace_trial1_labels.json', 'single_thread/version_3/faulty_data/labels/trace_trial2_labels.json', 'single_thread/version_3/faulty_data/labels/trace_trial3_labels.json', 'single_thread/version_3/faulty_data/old_labels/', 'single_thread/version_3/faulty_data/old_labels/trace1-com_label_1.json', 'single_thread/version_3/faulty_data/old_labels/trace2-sensor_label_1.json', 'single_thread/version_3/faulty_data/st_detections/', 'single_thread/version_3/faulty_data/st_detections/trace_trial1_fp_st_detections_0.json', 'single_thread/version_3/faulty_data/st_detections/trace_trial1_fp_st_detections_1.json', 'single_thread/version_3/faulty_data/st_detections/trace_trial1_fp_st_detections_2.json', 'single_thread/version_3/faulty_data/st_detections/trace_trial1_fp_st_detections_5.json', 'single_thread/version_3/faulty_data/st_detections/trace_trial1_st_detections_0.json', 'single_thread/version_3/faulty_data/st_detections/trace_trial1_st_detections_1.json', 'single_thread/version_3/faulty_data/st_detections/trace_trial1_st_detections_2.json', 'single_thread/version_3/faulty_data/st_detections/trace_trial1_st_detections_5.json', 'single_thread/version_3/faulty_data/st_detections/trace_trial1_tp_st_detections_0.json', 'single_thread/version_3/faulty_data/st_detections/trace_trial1_tp_st_detections_1.json', 'single_thread/version_3/faulty_data/st_detections/trace_trial1_tp_st_detections_2.json', 'single_thread/version_3/faulty_data/st_detections/trace_trial1_tp_st_detections_5.json', 'single_thread/version_3/faulty_data/st_detections/trace_trial2_fp_st_detections_0.json', 'single_thread/version_3/faulty_data/st_detections/trace_trial2_fp_st_detections_1.json', 'single_thread/version_3/faulty_data/st_detections/trace_trial2_fp_st_detections_2.json', 'single_thread/version_3/faulty_data/st_detections/trace_trial2_fp_st_detections_5.json', 'single_thread/version_3/faulty_data/st_detections/trace_trial2_st_detections_0.json', 'single_thread/version_3/faulty_data/st_detections/trace_trial2_st_detections_1.json', 'single_thread/version_3/faulty_data/st_detections/trace_trial2_st_detections_2.json', 'single_thread/version_3/faulty_data/st_detections/trace_trial2_st_detections_5.json', 'single_thread/version_3/faulty_data/st_detections/trace_trial2_tp_st_detections_0.json', 'single_thread/version_3/faulty_data/st_detections/trace_trial2_tp_st_detections_1.json', 'single_thread/version_3/faulty_data/st_detections/trace_trial2_tp_st_detections_2.json', 'single_thread/version_3/faulty_data/st_detections/trace_trial2_tp_st_detections_5.json', 'single_thread/version_3/faulty_data/st_detections/trace_trial3_fp_st_detections_0.json', 'single_thread/version_3/faulty_data/st_detections/trace_trial3_fp_st_detections_1.json', 'single_thread/version_3/faulty_data/st_detections/trace_trial3_fp_st_detections_2.json', 'single_thread/version_3/faulty_data/st_detections/trace_trial3_fp_st_detections_5.json', 'single_thread/version_3/faulty_data/st_detections/trace_trial3_st_detections_0.json', 'single_thread/version_3/faulty_data/st_detections/trace_trial3_st_detections_1.json', 'single_thread/version_3/faulty_data/st_detections/trace_trial3_st_detections_2.json', 'single_thread/version_3/faulty_data/st_detections/trace_trial3_st_detections_5.json', 'single_thread/version_3/faulty_data/st_detections/trace_trial3_tp_st_detections_0.json', 'single_thread/version_3/faulty_data/st_detections/trace_trial3_tp_st_detections_1.json', 'single_thread/version_3/faulty_data/st_detections/trace_trial3_tp_st_detections_2.json', 'single_thread/version_3/faulty_data/st_detections/trace_trial3_tp_st_detections_5.json', 'single_thread/version_3/faulty_data/thresholds.json', 'single_thread/version_3/faulty_data/trace_trial1.json', 'single_thread/version_3/faulty_data/trace_trial2.json', 'single_thread/version_3/faulty_data/trace_trial3.json', 'single_thread/version_3/faulty_data/trial1/', 'single_thread/version_3/faulty_data/trial1/log1', 'single_thread/version_3/faulty_data/trial1/trace1', 'single_thread/version_3/faulty_data/trial1/varlist1', 'single_thread/version_3/faulty_data/trial2/', 'single_thread/version_3/faulty_data/trial2/log2', 'single_thread/version_3/faulty_data/trial2/trace2', 'single_thread/version_3/faulty_data/trial2/varlist2', 'single_thread/version_3/faulty_data/trial3/', 'single_thread/version_3/faulty_data/trial3/log3', 'single_thread/version_3/faulty_data/trial3/trace3', 'single_thread/version_3/faulty_data/trial3/varlist3', 'single_thread/version_3/faulty_data/varlist_trial1.json', 'single_thread/version_3/faulty_data/varlist_trial2.json', 'single_thread/version_3/faulty_data/varlist_trial3.json', 'single_thread/version_3/normal/', 'single_thread/version_3/normal/.DS_Store', 'single_thread/version_3/normal/trace_trial1', 'single_thread/version_3/normal/train_data/', 'single_thread/version_3/normal/train_data/interval_0_110.json', 'single_thread/version_3/normal/train_data/interval_1250_2000.json', 'single_thread/version_3/normal/train_data/interval_150_900.json', 'single_thread/version_3/normal/train_data/interval_2050_2300.json', 'single_thread/version_3/normal/trial1/', 'single_thread/version_3/normal/trial1/log0', 'single_thread/version_3/normal/trial1/trace0', 'single_thread/version_3/normal/trial1/varlist0', 'single_thread/version_3/normal/varlist_trial1.json', 'single_thread/version_4/', 'single_thread/version_4/faulty_data/', 'single_thread/version_4/faulty_data/ei_detections/', 'single_thread/version_4/faulty_data/ei_detections/trace_trial1_ei_detections_5.json', 'single_thread/version_4/faulty_data/ei_detections/trace_trial2_ei_detections_5.json', 'single_thread/version_4/faulty_data/ei_detections/trace_trial3_ei_detections_5.json', 'single_thread/version_4/faulty_data/labels backup/', 'single_thread/version_4/faulty_data/labels/', 'single_thread/version_4/faulty_data/st_detections/', 'single_thread/version_4/faulty_data/thresholds.json', 'single_thread/version_4/faulty_data/trial 3/', 'single_thread/version_4/faulty_data/trial 3/trace0', 'single_thread/version_4/faulty_data/trial 3/trace1', 'single_thread/version_4/faulty_data/trial 3/trace10', 'single_thread/version_4/faulty_data/trial 3/trace11', 'single_thread/version_4/faulty_data/trial 3/trace12', 'single_thread/version_4/faulty_data/trial 3/trace13', 'single_thread/version_4/faulty_data/trial 3/trace14', 'single_thread/version_4/faulty_data/trial 3/trace2', 'single_thread/version_4/faulty_data/trial 3/trace3', 'single_thread/version_4/faulty_data/trial 3/trace4', 'single_thread/version_4/faulty_data/trial 3/trace5', 'single_thread/version_4/faulty_data/trial 3/trace6', 'single_thread/version_4/faulty_data/trial 3/trace7', 'single_thread/version_4/faulty_data/trial 3/trace8', 'single_thread/version_4/faulty_data/trial 3/trace9', 'single_thread/version_4/faulty_data/trial 3/varlist0', 'single_thread/version_4/faulty_data/trial 3/varlist1', 'single_thread/version_4/faulty_data/trial 3/varlist10', 'single_thread/version_4/faulty_data/trial 3/varlist11', 'single_thread/version_4/faulty_data/trial 3/varlist12', 'single_thread/version_4/faulty_data/trial 3/varlist13', 'single_thread/version_4/faulty_data/trial 3/varlist14', 'single_thread/version_4/faulty_data/trial 3/varlist2', 'single_thread/version_4/faulty_data/trial 3/varlist3', 'single_thread/version_4/faulty_data/trial 3/varlist4', 'single_thread/version_4/faulty_data/trial 3/varlist5', 'single_thread/version_4/faulty_data/trial 3/varlist6', 'single_thread/version_4/faulty_data/trial 3/varlist7', 'single_thread/version_4/faulty_data/trial 3/varlist8', 'single_thread/version_4/faulty_data/trial 3/varlist9', 'single_thread/version_4/faulty_data/trial1/', 'single_thread/version_4/faulty_data/trial1/trace0', 'single_thread/version_4/faulty_data/trial1/trace1', 'single_thread/version_4/faulty_data/trial1/trace10', 'single_thread/version_4/faulty_data/trial1/trace11', 'single_thread/version_4/faulty_data/trial1/trace12', 'single_thread/version_4/faulty_data/trial1/trace13', 'single_thread/version_4/faulty_data/trial1/trace14', 'single_thread/version_4/faulty_data/trial1/trace2', 'single_thread/version_4/faulty_data/trial1/trace3', 'single_thread/version_4/faulty_data/trial1/trace4', 'single_thread/version_4/faulty_data/trial1/trace5', 'single_thread/version_4/faulty_data/trial1/trace6', 'single_thread/version_4/faulty_data/trial1/trace7', 'single_thread/version_4/faulty_data/trial1/trace8', 'single_thread/version_4/faulty_data/trial1/trace9', 'single_thread/version_4/faulty_data/trial1/varlist0', 'single_thread/version_4/faulty_data/trial1/varlist1', 'single_thread/version_4/faulty_data/trial1/varlist10', 'single_thread/version_4/faulty_data/trial1/varlist11', 'single_thread/version_4/faulty_data/trial1/varlist12', 'single_thread/version_4/faulty_data/trial1/varlist13', 'single_thread/version_4/faulty_data/trial1/varlist14', 'single_thread/version_4/faulty_data/trial1/varlist2', 'single_thread/version_4/faulty_data/trial1/varlist3', 'single_thread/version_4/faulty_data/trial1/varlist4', 'single_thread/version_4/faulty_data/trial1/varlist5', 'single_thread/version_4/faulty_data/trial1/varlist6', 'single_thread/version_4/faulty_data/trial1/varlist7', 'single_thread/version_4/faulty_data/trial1/varlist8', 'single_thread/version_4/faulty_data/trial1/varlist9', 'single_thread/version_4/faulty_data/trial2/', 'single_thread/version_4/faulty_data/trial2/trace0', 'single_thread/version_4/faulty_data/trial2/trace1', 'single_thread/version_4/faulty_data/trial2/trace10', 'single_thread/version_4/faulty_data/trial2/trace11', 'single_thread/version_4/faulty_data/trial2/trace12', 'single_thread/version_4/faulty_data/trial2/trace13', 'single_thread/version_4/faulty_data/trial2/trace14', 'single_thread/version_4/faulty_data/trial2/trace2', 'single_thread/version_4/faulty_data/trial2/trace3', 'single_thread/version_4/faulty_data/trial2/trace4', 'single_thread/version_4/faulty_data/trial2/trace5', 'single_thread/version_4/faulty_data/trial2/trace6', 'single_thread/version_4/faulty_data/trial2/trace7', 'single_thread/version_4/faulty_data/trial2/trace8', 'single_thread/version_4/faulty_data/trial2/trace9', 'single_thread/version_4/faulty_data/trial2/varlist0', 'single_thread/version_4/faulty_data/trial2/varlist1', 'single_thread/version_4/faulty_data/trial2/varlist10', 'single_thread/version_4/faulty_data/trial2/varlist11', 'single_thread/version_4/faulty_data/trial2/varlist12', 'single_thread/version_4/faulty_data/trial2/varlist13', 'single_thread/version_4/faulty_data/trial2/varlist14', 'single_thread/version_4/faulty_data/trial2/varlist2', 'single_thread/version_4/faulty_data/trial2/varlist3', 'single_thread/version_4/faulty_data/trial2/varlist4', 'single_thread/version_4/faulty_data/trial2/varlist5', 'single_thread/version_4/faulty_data/trial2/varlist6', 'single_thread/version_4/faulty_data/trial2/varlist7', 'single_thread/version_4/faulty_data/trial2/varlist8', 'single_thread/version_4/faulty_data/trial2/varlist9', 'single_thread/version_4/normal/', 'single_thread/version_4/normal/trace_trial1', 'single_thread/version_4/normal/trace_trial2', 'single_thread/version_4/normal/train_data/', 'single_thread/version_4/normal/train_data/interval_0_340.json', 'single_thread/version_4/normal/train_data/interval_0_350.json', 'single_thread/version_4/normal/train_data/interval_2000_27400.json', 'single_thread/version_4/normal/train_data/interval_500_700.json', 'single_thread/version_4/normal/train_data/interval_650_1500.json', 'single_thread/version_4/normal/train_data/interval_700_1500.json', 'single_thread/version_4/normal/trial1/', 'single_thread/version_4/normal/trial1/trace0', 'single_thread/version_4/normal/trial1/trace1', 'single_thread/version_4/normal/trial1/trace10', 'single_thread/version_4/normal/trial1/trace11', 'single_thread/version_4/normal/trial1/trace12', 'single_thread/version_4/normal/trial1/trace13', 'single_thread/version_4/normal/trial1/trace14', 'single_thread/version_4/normal/trial1/trace2', 'single_thread/version_4/normal/trial1/trace3', 'single_thread/version_4/normal/trial1/trace4', 'single_thread/version_4/normal/trial1/trace5', 'single_thread/version_4/normal/trial1/trace6', 'single_thread/version_4/normal/trial1/trace7', 'single_thread/version_4/normal/trial1/trace8', 'single_thread/version_4/normal/trial1/trace9', 'single_thread/version_4/normal/trial1/varlist0', 'single_thread/version_4/normal/trial1/varlist1', 'single_thread/version_4/normal/trial1/varlist10', 'single_thread/version_4/normal/trial1/varlist11', 'single_thread/version_4/normal/trial1/varlist12', 'single_thread/version_4/normal/trial1/varlist13', 'single_thread/version_4/normal/trial1/varlist14', 'single_thread/version_4/normal/trial1/varlist2', 'single_thread/version_4/normal/trial1/varlist3', 'single_thread/version_4/normal/trial1/varlist4', 'single_thread/version_4/normal/trial1/varlist5', 'single_thread/version_4/normal/trial1/varlist6', 'single_thread/version_4/normal/trial1/varlist7', 'single_thread/version_4/normal/trial1/varlist8', 'single_thread/version_4/normal/trial1/varlist9', 'single_thread/version_4/normal/trial2/', 'single_thread/version_4/normal/trial2/trace0', 'single_thread/version_4/normal/trial2/trace1', 'single_thread/version_4/normal/trial2/trace10', 'single_thread/version_4/normal/trial2/trace11', 'single_thread/version_4/normal/trial2/trace12', 'single_thread/version_4/normal/trial2/trace13', 'single_thread/version_4/normal/trial2/trace14', 'single_thread/version_4/normal/trial2/trace2', 'single_thread/version_4/normal/trial2/trace3', 'single_thread/version_4/normal/trial2/trace4', 'single_thread/version_4/normal/trial2/trace5', 'single_thread/version_4/normal/trial2/trace6', 'single_thread/version_4/normal/trial2/trace7', 'single_thread/version_4/normal/trial2/trace8', 'single_thread/version_4/normal/trial2/trace9', 'single_thread/version_4/normal/trial2/varlist0', 'single_thread/version_4/normal/trial2/varlist1', 'single_thread/version_4/normal/trial2/varlist10', 'single_thread/version_4/normal/trial2/varlist11', 'single_thread/version_4/normal/trial2/varlist12', 'single_thread/version_4/normal/trial2/varlist13', 'single_thread/version_4/normal/trial2/varlist14', 'single_thread/version_4/normal/trial2/varlist2', 'single_thread/version_4/normal/trial2/varlist3', 'single_thread/version_4/normal/trial2/varlist4', 'single_thread/version_4/normal/trial2/varlist5', 'single_thread/version_4/normal/trial2/varlist6', 'single_thread/version_4/normal/trial2/varlist7', 'single_thread/version_4/normal/trial2/varlist8', 'single_thread/version_4/normal/trial2/varlist9', 'single_thread/version_4/normal/varlist_trial1.json', 'single_thread/version_4/normal/varlist_trial2.json']\n"
          ]
        }
      ],
      "source": [
        "import os\n",
        "import numpy as np\n",
        "import pandas as pd\n",
        "import json\n",
        "import shutil\n",
        "from sklearn.preprocessing import MinMaxScaler, StandardScaler\n",
        "from sklearn.metrics import precision_score, recall_score, f1_score, confusion_matrix, ConfusionMatrixDisplay\n",
        "import matplotlib.pyplot as plt\n",
        "from tensorflow.keras.models import Sequential\n",
        "from tensorflow.keras.layers import LSTM, Dense, Dropout\n",
        "import zipfile\n",
        "from google.colab import files\n",
        "from tensorflow.keras.optimizers import Adam\n",
        "from tensorflow.keras.regularizers import l2\n",
        "from sklearn.model_selection import train_test_split\n",
        "from tensorflow.keras.callbacks import EarlyStopping\n",
        "\n",
        "\n",
        "# Clean the directory\n",
        "current_dir = './'\n",
        "for item in os.listdir(current_dir):\n",
        "    if item not in ['.config', 'sample_data']:\n",
        "        item_path = os.path.join(current_dir, item)\n",
        "        if os.path.isfile(item_path):\n",
        "            os.remove(item_path)\n",
        "        elif os.path.isdir(item_path):\n",
        "            shutil.rmtree(item_path)\n",
        "\n",
        "print(\"Directory cleared. Current contents:\", os.listdir(current_dir))\n",
        "\n",
        "# Upload files\n",
        "uploaded = files.upload()\n",
        "\n",
        "# Extract and organize data\n",
        "zip_file_path = './theft_protection.zip'\n",
        "extraction_path = './theft_protection'\n",
        "base_dir = './trace_data'\n",
        "\n",
        "if os.path.exists(zip_file_path):\n",
        "    with zipfile.ZipFile(zip_file_path, 'r') as zip_ref:\n",
        "        print(\"Contents of theft_protection.zip:\")\n",
        "        print(zip_ref.namelist())\n",
        "        zip_ref.extractall(extraction_path)\n",
        "    if not os.path.exists(base_dir):\n",
        "        os.makedirs(base_dir)\n",
        "    if os.path.exists('./theft_protection'):\n",
        "        shutil.move('./theft_protection', f'{base_dir}/theft_protection')\n",
        "else:\n",
        "    print(\"Zip file not found.\")\n",
        "\n",
        "from utils import get_paths, read_traces, read_json, mapint2var, is_consistent\n",
        "from anomaly_detection import test_single, merge_detections, get_correct_detections\n",
        "\n",
        "# Configuration\n",
        "CODE = 'theft_protection'\n",
        "BEHAVIOUR_FAULTY = 'faulty_data'\n",
        "BEHAVIOUR_NORMAL = 'normal'\n",
        "THREAD = 'single'\n",
        "VER = 3\n",
        "\n",
        "normalbase_path = f'{base_dir}/{CODE}/{THREAD}_thread/version_{VER}/{BEHAVIOUR_NORMAL}'\n",
        "faultybase_path = f'{base_dir}/{CODE}/{THREAD}_thread/version_{VER}/{BEHAVIOUR_FAULTY}'\n",
        "\n",
        "\n"
      ]
    },
    {
      "cell_type": "code",
      "source": [
        "normalbase_path"
      ],
      "metadata": {
        "colab": {
          "base_uri": "https://localhost:8080/",
          "height": 35
        },
        "id": "VcCutKv-Imcz",
        "outputId": "0e64e94a-1f3f-43eb-a0c9-b341667dd985"
      },
      "execution_count": 2,
      "outputs": [
        {
          "output_type": "execute_result",
          "data": {
            "text/plain": [
              "'./trace_data/theft_protection/single_thread/version_3/normal'"
            ],
            "application/vnd.google.colaboratory.intrinsic+json": {
              "type": "string"
            }
          },
          "metadata": {},
          "execution_count": 2
        }
      ]
    },
    {
      "cell_type": "code",
      "source": [
        "faultybase_path"
      ],
      "metadata": {
        "colab": {
          "base_uri": "https://localhost:8080/",
          "height": 35
        },
        "id": "BL51HR7RIok3",
        "outputId": "3cd4eb1d-b376-434b-bc67-e4312d678604"
      },
      "execution_count": 3,
      "outputs": [
        {
          "output_type": "execute_result",
          "data": {
            "text/plain": [
              "'./trace_data/theft_protection/single_thread/version_3/faulty_data'"
            ],
            "application/vnd.google.colaboratory.intrinsic+json": {
              "type": "string"
            }
          },
          "metadata": {},
          "execution_count": 3
        }
      ]
    },
    {
      "cell_type": "code",
      "source": [
        "\n",
        "train_base_path = os.path.join(normalbase_path, 'train_data')\n",
        "train_data_path = [os.path.join(train_base_path, x) for x in os.listdir(train_base_path)]\n",
        "train_varlist_path = [os.path.join(normalbase_path, x) for x in os.listdir(normalbase_path) if 'varlist' in x]\n",
        "\n",
        "paths_log, paths_traces, varlist_path, paths_label = get_paths(faultybase_path)\n",
        "\n",
        "train_data_path = [x for x in train_data_path if '.DS_Store' not in x]\n",
        "train_varlist_path = [x for x in train_varlist_path if '.DS_Store' not in x]\n",
        "paths_log = [x for x in paths_log if '.DS_Store' not in x]\n",
        "paths_traces = [x for x in paths_traces if '.DS_Store' not in x]\n",
        "varlist_path = [x for x in varlist_path if '.DS_Store' not in x]\n",
        "paths_label = [x for x in paths_label if '.DS_Store' not in x]\n",
        "\n",
        "paths_log.sort()\n",
        "paths_traces.sort()\n",
        "varlist_path.sort()\n",
        "paths_label.sort()\n",
        "\n",
        "test_data_path = paths_traces\n",
        "test_label_path = paths_label\n"
      ],
      "metadata": {
        "id": "zY8UWkCOIdb2"
      },
      "execution_count": 4,
      "outputs": []
    },
    {
      "cell_type": "code",
      "source": [
        "test_data_path"
      ],
      "metadata": {
        "colab": {
          "base_uri": "https://localhost:8080/"
        },
        "id": "owLp81hJJFvi",
        "outputId": "03418fdd-1712-47c0-c991-9f05b241faec"
      },
      "execution_count": 5,
      "outputs": [
        {
          "output_type": "execute_result",
          "data": {
            "text/plain": [
              "['./trace_data/theft_protection/single_thread/version_3/faulty_data/trace_trial1.json',\n",
              " './trace_data/theft_protection/single_thread/version_3/faulty_data/trace_trial2.json',\n",
              " './trace_data/theft_protection/single_thread/version_3/faulty_data/trace_trial3.json']"
            ]
          },
          "metadata": {},
          "execution_count": 5
        }
      ]
    },
    {
      "cell_type": "code",
      "source": [
        "test_label_path"
      ],
      "metadata": {
        "colab": {
          "base_uri": "https://localhost:8080/"
        },
        "id": "YwhFjdiAJLei",
        "outputId": "deeab140-fa1b-4ac4-8f1e-966329e98c4c"
      },
      "execution_count": 6,
      "outputs": [
        {
          "output_type": "execute_result",
          "data": {
            "text/plain": [
              "['./trace_data/theft_protection/single_thread/version_3/faulty_data/labels/trace_trial1_labels.json',\n",
              " './trace_data/theft_protection/single_thread/version_3/faulty_data/labels/trace_trial2_labels.json',\n",
              " './trace_data/theft_protection/single_thread/version_3/faulty_data/labels/trace_trial3_labels.json']"
            ]
          },
          "metadata": {},
          "execution_count": 6
        }
      ]
    },
    {
      "cell_type": "code",
      "source": [
        "# Check consistency\n",
        "if VER == 3:\n",
        "    check_con, _ = is_consistent([train_varlist_path[0]] + varlist_path)\n",
        "    if check_con:\n",
        "        to_number = read_json(varlist_path[0])\n",
        "        from_number = mapint2var(to_number)\n",
        "    else:\n",
        "        to_number = read_json(train_varlist_path[0])\n",
        "        from_number = mapint2var(to_number)\n",
        "\n",
        "sorted_keys = list(from_number.keys())\n",
        "sorted_keys.sort()\n",
        "var_list = [from_number[key] for key in sorted_keys]\n",
        "\n",
        "# Load training data\n",
        "def load_data(file_paths):\n",
        "    data = []\n",
        "    for file in file_paths:\n",
        "        traces = read_traces(file)\n",
        "        if isinstance(traces, list):\n",
        "            data.extend(traces)\n",
        "    return np.array(data)\n",
        "\n",
        "train_data = load_data(train_data_path)\n",
        "scaler = MinMaxScaler()\n",
        "train_data_scaled = scaler.fit_transform(train_data)\n",
        "\n",
        "\n"
      ],
      "metadata": {
        "colab": {
          "base_uri": "https://localhost:8080/"
        },
        "id": "-uoXVkCvIeJW",
        "outputId": "a3dd7144-d2b7-4b8a-81f1-beed9e057db8"
      },
      "execution_count": 7,
      "outputs": [
        {
          "output_type": "stream",
          "name": "stdout",
          "text": [
            "varlist 1 is consistent with varlist 0\n",
            "varlist 2 is consistent with varlist 0\n",
            "varlist 3 is consistent with varlist 0\n"
          ]
        }
      ]
    },
    {
      "cell_type": "code",
      "source": [
        "train_data"
      ],
      "metadata": {
        "colab": {
          "base_uri": "https://localhost:8080/"
        },
        "id": "L1rRbZLtJftI",
        "outputId": "f3600928-df83-4d5a-d02f-7c3664c3f83d"
      },
      "execution_count": 8,
      "outputs": [
        {
          "output_type": "execute_result",
          "data": {
            "text/plain": [
              "array([[     0,   1229],\n",
              "       [     1,   1256],\n",
              "       [     2,   1276],\n",
              "       ...,\n",
              "       [     8, 182684],\n",
              "       [     9, 182688],\n",
              "       [    10, 182692]])"
            ]
          },
          "metadata": {},
          "execution_count": 8
        }
      ]
    },
    {
      "cell_type": "code",
      "source": [
        "train_data_scaled"
      ],
      "metadata": {
        "colab": {
          "base_uri": "https://localhost:8080/"
        },
        "id": "_AusQyBXJki8",
        "outputId": "3275eecb-4563-4319-aa7c-fbf8cf47e7d6"
      },
      "execution_count": 9,
      "outputs": [
        {
          "output_type": "execute_result",
          "data": {
            "text/plain": [
              "array([[0.00000000e+00, 0.00000000e+00],\n",
              "       [6.66666667e-02, 5.83307049e-05],\n",
              "       [1.33333333e-01, 1.01538634e-04],\n",
              "       ...,\n",
              "       [5.33333333e-01, 3.92014743e-01],\n",
              "       [6.00000000e-01, 3.92023384e-01],\n",
              "       [6.66666667e-01, 3.92032026e-01]])"
            ]
          },
          "metadata": {},
          "execution_count": 9
        }
      ]
    },
    {
      "cell_type": "code",
      "source": [
        "# Prepare LSTM training data\n",
        "sequence_length = 30       # Already tuned parameter value\n",
        "X_train, y_train = [], []\n",
        "for i in range(len(train_data_scaled) - sequence_length):\n",
        "    X_train.append(train_data_scaled[i:i + sequence_length])\n",
        "    y_train.append(train_data_scaled[i + sequence_length])\n",
        "X_train, y_train = np.array(X_train), np.array(y_train)\n",
        "\n",
        "\n",
        "# test_size = 0.2 (20% of data used for validation and 80% for training)\n",
        "# random_state = 42 (to ensure data split remains same every time)\n",
        "X_train, X_val, y_train, y_val = train_test_split(X_train, y_train, test_size=0.2, random_state=42)"
      ],
      "metadata": {
        "id": "ayuRCc8WJgd7"
      },
      "execution_count": 10,
      "outputs": []
    },
    {
      "cell_type": "code",
      "source": [
        "X_train"
      ],
      "metadata": {
        "colab": {
          "base_uri": "https://localhost:8080/"
        },
        "id": "70Z0uUUHJyUR",
        "outputId": "a81ac2d9-b620-47fd-f2e3-200cd360e575"
      },
      "execution_count": 11,
      "outputs": [
        {
          "output_type": "execute_result",
          "data": {
            "text/plain": [
              "array([[[0.8       , 0.61858632],\n",
              "        [0.4       , 0.61859496],\n",
              "        [0.46666667, 0.61864897],\n",
              "        ...,\n",
              "        [0.4       , 0.63001266],\n",
              "        [0.46666667, 0.63006883],\n",
              "        [0.53333333, 0.63226379]],\n",
              "\n",
              "       [[0.6       , 0.31214056],\n",
              "        [0.4       , 0.31215137],\n",
              "        [0.46666667, 0.31220538],\n",
              "        ...,\n",
              "        [0.4       , 0.32355826],\n",
              "        [0.46666667, 0.32361227],\n",
              "        [0.53333333, 0.32581155]],\n",
              "\n",
              "       [[0.46666667, 0.3350278 ],\n",
              "        [0.53333333, 0.33722493],\n",
              "        [0.6       , 0.33723357],\n",
              "        ...,\n",
              "        [0.53333333, 0.3486383 ],\n",
              "        [0.6       , 0.34864694],\n",
              "        [0.66666667, 0.34865559]],\n",
              "\n",
              "       ...,\n",
              "\n",
              "       [[0.46666667, 0.76025864],\n",
              "        [0.53333333, 0.76245361],\n",
              "        [0.6       , 0.76246441],\n",
              "        ...,\n",
              "        [0.53333333, 0.7738713 ],\n",
              "        [0.6       , 0.7738821 ],\n",
              "        [0.4       , 0.77389074]],\n",
              "\n",
              "       [[0.66666667, 0.21853491],\n",
              "        [0.73333333, 0.21854787],\n",
              "        [0.8       , 0.21855867],\n",
              "        ...,\n",
              "        [0.73333333, 0.22996124],\n",
              "        [0.8       , 0.22996988],\n",
              "        [0.4       , 0.22998069]],\n",
              "\n",
              "       [[0.46666667, 0.07253531],\n",
              "        [0.53333333, 0.07473243],\n",
              "        [0.6       , 0.07474108],\n",
              "        ...,\n",
              "        [0.53333333, 0.08613933],\n",
              "        [0.6       , 0.08614797],\n",
              "        [0.4       , 0.08615877]]])"
            ]
          },
          "metadata": {},
          "execution_count": 11
        }
      ]
    },
    {
      "cell_type": "code",
      "source": [
        "# Define LSTM model\n",
        "# Layers 128, 64 and 32 are chosen by parameter tuning\n",
        "model = Sequential([\n",
        "    LSTM(128, activation='relu', return_sequences=True, input_shape=(sequence_length, train_data_scaled.shape[1]), kernel_regularizer=l2(0.01)),\n",
        "    Dropout(0.4),\n",
        "    LSTM(64, activation='relu', return_sequences=True, kernel_regularizer=l2(0.01)),\n",
        "    Dropout(0.4),\n",
        "    LSTM(32, activation='relu', return_sequences=False, kernel_regularizer=l2(0.01)),\n",
        "    Dropout(0.4),\n",
        "    Dense(X_train.shape[2], activation='linear')\n",
        "])\n",
        "\n",
        "model.compile(optimizer='adam', loss='mean_squared_error', metrics=['mae'])\n",
        "\n",
        "# Train model\n",
        "early_stopping = EarlyStopping(monitor='val_loss', patience=5, restore_best_weights=True, verbose=1)\n",
        "history = model.fit(X_train, y_train, validation_data=(X_val, y_val), epochs=100, batch_size=32, callbacks=[early_stopping], verbose=1)\n",
        "\n",
        "# Test data\n",
        "test_data = load_data(test_data_path)\n",
        "test_data_scaled = scaler.transform(test_data)\n",
        "X_test, y_test = [], []\n",
        "for i in range(len(test_data_scaled) - sequence_length):\n",
        "    X_test.append(test_data_scaled[i:i + sequence_length])\n",
        "    y_test.append(test_data_scaled[i + sequence_length])\n",
        "X_test, y_test = np.array(X_test), np.array(y_test)\n",
        "\n",
        "# Predictions and errors\n",
        "predictions = model.predict(X_test)\n",
        "errors = np.mean(np.abs(predictions - y_test), axis=1)\n",
        "train_predictions = model.predict(X_train)\n",
        "train_errors = np.mean(np.abs(train_predictions - y_train), axis=1)\n",
        "\n",
        "\n",
        "# Finding anomalies by using threshold\n",
        "threshold = np.percentile(train_errors, 95)\n",
        "anomalies = errors > threshold"
      ],
      "metadata": {
        "colab": {
          "base_uri": "https://localhost:8080/"
        },
        "id": "C9mDsWjwJ1AR",
        "outputId": "5d63f2e0-7583-4d82-d1b4-6a120df193b4"
      },
      "execution_count": 12,
      "outputs": [
        {
          "output_type": "stream",
          "name": "stderr",
          "text": [
            "/usr/local/lib/python3.11/dist-packages/keras/src/layers/rnn/rnn.py:200: UserWarning: Do not pass an `input_shape`/`input_dim` argument to a layer. When using Sequential models, prefer using an `Input(shape)` object as the first layer in the model instead.\n",
            "  super().__init__(**kwargs)\n"
          ]
        },
        {
          "output_type": "stream",
          "name": "stdout",
          "text": [
            "Epoch 1/100\n",
            "\u001b[1m46/46\u001b[0m \u001b[32m━━━━━━━━━━━━━━━━━━━━\u001b[0m\u001b[37m\u001b[0m \u001b[1m12s\u001b[0m 90ms/step - loss: 2.2712 - mae: 0.3729 - val_loss: 0.9545 - val_mae: 0.1594\n",
            "Epoch 2/100\n",
            "\u001b[1m46/46\u001b[0m \u001b[32m━━━━━━━━━━━━━━━━━━━━\u001b[0m\u001b[37m\u001b[0m \u001b[1m4s\u001b[0m 76ms/step - loss: 0.7619 - mae: 0.1709 - val_loss: 0.3237 - val_mae: 0.0934\n",
            "Epoch 3/100\n",
            "\u001b[1m46/46\u001b[0m \u001b[32m━━━━━━━━━━━━━━━━━━━━\u001b[0m\u001b[37m\u001b[0m \u001b[1m7s\u001b[0m 114ms/step - loss: 0.2835 - mae: 0.1614 - val_loss: 0.1279 - val_mae: 0.1000\n",
            "Epoch 4/100\n",
            "\u001b[1m46/46\u001b[0m \u001b[32m━━━━━━━━━━━━━━━━━━━━\u001b[0m\u001b[37m\u001b[0m \u001b[1m4s\u001b[0m 76ms/step - loss: 0.1246 - mae: 0.1477 - val_loss: 0.0684 - val_mae: 0.1148\n",
            "Epoch 5/100\n",
            "\u001b[1m46/46\u001b[0m \u001b[32m━━━━━━━━━━━━━━━━━━━━\u001b[0m\u001b[37m\u001b[0m \u001b[1m5s\u001b[0m 75ms/step - loss: 0.0772 - mae: 0.1506 - val_loss: 0.0441 - val_mae: 0.0919\n",
            "Epoch 6/100\n",
            "\u001b[1m46/46\u001b[0m \u001b[32m━━━━━━━━━━━━━━━━━━━━\u001b[0m\u001b[37m\u001b[0m \u001b[1m6s\u001b[0m 94ms/step - loss: 0.0571 - mae: 0.1412 - val_loss: 0.0367 - val_mae: 0.0929\n",
            "Epoch 7/100\n",
            "\u001b[1m46/46\u001b[0m \u001b[32m━━━━━━━━━━━━━━━━━━━━\u001b[0m\u001b[37m\u001b[0m \u001b[1m3s\u001b[0m 74ms/step - loss: 0.0483 - mae: 0.1375 - val_loss: 0.0316 - val_mae: 0.0955\n",
            "Epoch 8/100\n",
            "\u001b[1m46/46\u001b[0m \u001b[32m━━━━━━━━━━━━━━━━━━━━\u001b[0m\u001b[37m\u001b[0m \u001b[1m6s\u001b[0m 92ms/step - loss: 0.0446 - mae: 0.1367 - val_loss: 0.0283 - val_mae: 0.1029\n",
            "Epoch 9/100\n",
            "\u001b[1m46/46\u001b[0m \u001b[32m━━━━━━━━━━━━━━━━━━━━\u001b[0m\u001b[37m\u001b[0m \u001b[1m4s\u001b[0m 74ms/step - loss: 0.0432 - mae: 0.1369 - val_loss: 0.0306 - val_mae: 0.1137\n",
            "Epoch 10/100\n",
            "\u001b[1m46/46\u001b[0m \u001b[32m━━━━━━━━━━━━━━━━━━━━\u001b[0m\u001b[37m\u001b[0m \u001b[1m5s\u001b[0m 77ms/step - loss: 0.0390 - mae: 0.1344 - val_loss: 0.0273 - val_mae: 0.1070\n",
            "Epoch 11/100\n",
            "\u001b[1m46/46\u001b[0m \u001b[32m━━━━━━━━━━━━━━━━━━━━\u001b[0m\u001b[37m\u001b[0m \u001b[1m7s\u001b[0m 115ms/step - loss: 0.0405 - mae: 0.1400 - val_loss: 0.0248 - val_mae: 0.0918\n",
            "Epoch 12/100\n",
            "\u001b[1m46/46\u001b[0m \u001b[32m━━━━━━━━━━━━━━━━━━━━\u001b[0m\u001b[37m\u001b[0m \u001b[1m8s\u001b[0m 75ms/step - loss: 0.0359 - mae: 0.1314 - val_loss: 0.0275 - val_mae: 0.1034\n",
            "Epoch 13/100\n",
            "\u001b[1m46/46\u001b[0m \u001b[32m━━━━━━━━━━━━━━━━━━━━\u001b[0m\u001b[37m\u001b[0m \u001b[1m6s\u001b[0m 95ms/step - loss: 0.0391 - mae: 0.1333 - val_loss: 0.0269 - val_mae: 0.1015\n",
            "Epoch 14/100\n",
            "\u001b[1m46/46\u001b[0m \u001b[32m━━━━━━━━━━━━━━━━━━━━\u001b[0m\u001b[37m\u001b[0m \u001b[1m4s\u001b[0m 76ms/step - loss: 0.0379 - mae: 0.1347 - val_loss: 0.0261 - val_mae: 0.1066\n",
            "Epoch 15/100\n",
            "\u001b[1m46/46\u001b[0m \u001b[32m━━━━━━━━━━━━━━━━━━━━\u001b[0m\u001b[37m\u001b[0m \u001b[1m4s\u001b[0m 76ms/step - loss: 0.0361 - mae: 0.1310 - val_loss: 0.0237 - val_mae: 0.0879\n",
            "Epoch 16/100\n",
            "\u001b[1m46/46\u001b[0m \u001b[32m━━━━━━━━━━━━━━━━━━━━\u001b[0m\u001b[37m\u001b[0m \u001b[1m6s\u001b[0m 101ms/step - loss: 0.0333 - mae: 0.1255 - val_loss: 0.0230 - val_mae: 0.0966\n",
            "Epoch 17/100\n",
            "\u001b[1m46/46\u001b[0m \u001b[32m━━━━━━━━━━━━━━━━━━━━\u001b[0m\u001b[37m\u001b[0m \u001b[1m4s\u001b[0m 76ms/step - loss: 0.0333 - mae: 0.1249 - val_loss: 0.0248 - val_mae: 0.1047\n",
            "Epoch 18/100\n",
            "\u001b[1m46/46\u001b[0m \u001b[32m━━━━━━━━━━━━━━━━━━━━\u001b[0m\u001b[37m\u001b[0m \u001b[1m6s\u001b[0m 95ms/step - loss: 0.0332 - mae: 0.1276 - val_loss: 0.0242 - val_mae: 0.1000\n",
            "Epoch 19/100\n",
            "\u001b[1m46/46\u001b[0m \u001b[32m━━━━━━━━━━━━━━━━━━━━\u001b[0m\u001b[37m\u001b[0m \u001b[1m5s\u001b[0m 118ms/step - loss: 0.0332 - mae: 0.1232 - val_loss: 0.0228 - val_mae: 0.1005\n",
            "Epoch 20/100\n",
            "\u001b[1m46/46\u001b[0m \u001b[32m━━━━━━━━━━━━━━━━━━━━\u001b[0m\u001b[37m\u001b[0m \u001b[1m11s\u001b[0m 136ms/step - loss: 0.0338 - mae: 0.1283 - val_loss: 0.0220 - val_mae: 0.0871\n",
            "Epoch 21/100\n",
            "\u001b[1m46/46\u001b[0m \u001b[32m━━━━━━━━━━━━━━━━━━━━\u001b[0m\u001b[37m\u001b[0m \u001b[1m4s\u001b[0m 83ms/step - loss: 0.0316 - mae: 0.1228 - val_loss: 0.0216 - val_mae: 0.0897\n",
            "Epoch 22/100\n",
            "\u001b[1m46/46\u001b[0m \u001b[32m━━━━━━━━━━━━━━━━━━━━\u001b[0m\u001b[37m\u001b[0m \u001b[1m5s\u001b[0m 76ms/step - loss: 0.0337 - mae: 0.1235 - val_loss: 0.0235 - val_mae: 0.1001\n",
            "Epoch 23/100\n",
            "\u001b[1m46/46\u001b[0m \u001b[32m━━━━━━━━━━━━━━━━━━━━\u001b[0m\u001b[37m\u001b[0m \u001b[1m5s\u001b[0m 102ms/step - loss: 0.0301 - mae: 0.1192 - val_loss: 0.0229 - val_mae: 0.0957\n",
            "Epoch 24/100\n",
            "\u001b[1m46/46\u001b[0m \u001b[32m━━━━━━━━━━━━━━━━━━━━\u001b[0m\u001b[37m\u001b[0m \u001b[1m4s\u001b[0m 77ms/step - loss: 0.0329 - mae: 0.1245 - val_loss: 0.0218 - val_mae: 0.0932\n",
            "Epoch 25/100\n",
            "\u001b[1m46/46\u001b[0m \u001b[32m━━━━━━━━━━━━━━━━━━━━\u001b[0m\u001b[37m\u001b[0m \u001b[1m4s\u001b[0m 78ms/step - loss: 0.0301 - mae: 0.1212 - val_loss: 0.0222 - val_mae: 0.0955\n",
            "Epoch 26/100\n",
            "\u001b[1m46/46\u001b[0m \u001b[32m━━━━━━━━━━━━━━━━━━━━\u001b[0m\u001b[37m\u001b[0m \u001b[1m4s\u001b[0m 88ms/step - loss: 0.0307 - mae: 0.1205 - val_loss: 0.0233 - val_mae: 0.1063\n",
            "Epoch 26: early stopping\n",
            "Restoring model weights from the end of the best epoch: 21.\n",
            "\u001b[1m248/248\u001b[0m \u001b[32m━━━━━━━━━━━━━━━━━━━━\u001b[0m\u001b[37m\u001b[0m \u001b[1m6s\u001b[0m 22ms/step\n",
            "\u001b[1m46/46\u001b[0m \u001b[32m━━━━━━━━━━━━━━━━━━━━\u001b[0m\u001b[37m\u001b[0m \u001b[1m1s\u001b[0m 21ms/step\n"
          ]
        }
      ]
    },
    {
      "cell_type": "code",
      "source": [
        "## checking the detections against the ground truth\n",
        "DIFF_VAL = 0                # Time threshold used for merging anomalies that occur close together\n",
        "all_detections = []         # To store detections for each file\n",
        "y_pred_all = []             # To store the predicted labels\n",
        "y_true_all = []             # To store the ground truth labels\n",
        "all_tp = []                 # To store all true positives\n",
        "all_fp = []                 # To store all false positives\n",
        "all_fn = []                 # To store all false negatives\n",
        "all_gt = []                 # To store the ground truth\n",
        "\n",
        "# Iterating through each test data file and label file\n",
        "for test_data, test_label in zip(test_data_path, test_label_path):\n",
        "    detection = test_single(test_data, model, scaler, sequence_length, threshold)            # detect anomalies in test_data using trained LSTM model\n",
        "    all_detections.append((test_data, detection, test_label))                                # storing the detection results with its test file and label\n",
        "\n",
        "    merged_detection, grouped_detection = merge_detections(detection, DIFF_VAL)              # Merge detection to minimize redundant anomalies\n",
        "    detection = merged_detection\n",
        "\n",
        "    ground_truth_raw = read_traces(test_label)                                               # read ground truth labels from the label file\n",
        "    ground_truth = ground_truth_raw['labels']                                                # extract labels from dictionary from ground truth data\n",
        "    label_trace_name = list(ground_truth.keys())[0]\n",
        "    ground_truth = ground_truth[label_trace_name]\n",
        "    correct_pred, rest_pred, y_pred, y_true, false_neg = get_correct_detections(detection, ground_truth)  # Comparing detected anomaly with ground truth\n",
        "    y_pred_all.extend(y_pred)          # predicted labels\n",
        "    y_true_all.extend(y_true)          # actual ground truth labels\n",
        "    all_tp.append((test_data, correct_pred, test_label))\n",
        "    all_fp.append((test_data, rest_pred, test_label))\n",
        "    all_fn.append((test_data, false_neg, test_label))\n",
        "    all_gt.append((test_data, ground_truth, test_label))"
      ],
      "metadata": {
        "colab": {
          "base_uri": "https://localhost:8080/"
        },
        "id": "LZj-TGNRJ4s9",
        "outputId": "c8e01ac7-589d-4914-91a2-3bb09e3f8ea9"
      },
      "execution_count": 13,
      "outputs": [
        {
          "output_type": "stream",
          "name": "stdout",
          "text": [
            "\u001b[1m80/80\u001b[0m \u001b[32m━━━━━━━━━━━━━━━━━━━━\u001b[0m\u001b[37m\u001b[0m \u001b[1m2s\u001b[0m 21ms/step\n",
            "\n",
            "Ground Truth: ID Range=(180, 185), Timestamps=(37775, 38831), Class=1\n",
            "\n",
            "Ground Truth: ID Range=(199, 204), Timestamps=(41993, 43048), Class=1\n",
            "Detection: ID Range=(199, 273), Timestamps=(41993, 63119), Overlap={199, 200, 201, 202, 203, 204}\n",
            "\n",
            "Ground Truth: ID Range=(322, 327), Timestamps=(67337, 68393), Class=1\n",
            "Detection: ID Range=(322, 322), Timestamps=(67337, 73670), Overlap={322}\n",
            "\n",
            "Ground Truth: ID Range=(419, 424), Timestamps=(87403, 88459), Class=1\n",
            "\n",
            "Ground Truth: ID Range=(516, 544), Timestamps=(107472, 113797), Class=1\n",
            "\n",
            "Ground Truth: ID Range=(636, 641), Timestamps=(132810, 133867), Class=1\n",
            "\n",
            "Ground Truth: ID Range=(733, 738), Timestamps=(152877, 153933), Class=1\n",
            "\n",
            "Ground Truth: ID Range=(878, 883), Timestamps=(182463, 183518), Class=1\n",
            "\n",
            "Ground Truth: ID Range=(901, 906), Timestamps=(187732, 188789), Class=1\n",
            "\n",
            "Ground Truth: ID Range=(920, 924), Timestamps=(191951, 193261), Class=2\n",
            "\n",
            "Ground Truth: ID Range=(942, 947), Timestamps=(197475, 198530), Class=1\n",
            "\n",
            "Ground Truth: ID Range=(965, 970), Timestamps=(202743, 203799), Class=1\n",
            "\n",
            "Ground Truth: ID Range=(1110, 1115), Timestamps=(232341, 233397), Class=1\n",
            "\n",
            "Ground Truth: ID Range=(1218, 1225), Timestamps=(254532, 256897), Class=2\n",
            "\n",
            "Ground Truth: ID Range=(1602, 1607), Timestamps=(331993, 333050), Class=1\n",
            "\n",
            "Ground Truth: ID Range=(1625, 1630), Timestamps=(337263, 338321), Class=1\n",
            "\n",
            "Ground Truth: ID Range=(1822, 1827), Timestamps=(377448, 378504), Class=1\n",
            "Detection: ID Range=(1822, 2043), Timestamps=(377448, 428475), Overlap={1824, 1825, 1826, 1827, 1822, 1823}\n",
            "\n",
            "Ground Truth: ID Range=(2067, 2074), Timestamps=(427165, 428485), Class=2\n",
            "\n",
            "Ground Truth: ID Range=(2092, 2097), Timestamps=(432701, 433757), Class=1\n",
            "\n",
            "Ground Truth: ID Range=(2111, 2116), Timestamps=(436922, 437977), Class=1\n",
            "Detection: ID Range=(2111, 2137), Timestamps=(436922, 448549), Overlap={2112, 2113, 2114, 2115, 2116, 2111}\n",
            "\n",
            "Ground Truth: ID Range=(2186, 2191), Timestamps=(452779, 453835), Class=1\n",
            "Detection: ID Range=(2182, 2260), Timestamps=(452761, 473938), Overlap={2186, 2187, 2188, 2189, 2190, 2191}\n",
            "\n",
            "Ground Truth: ID Range=(2305, 2310), Timestamps=(477115, 478173), Class=1\n",
            "Detection: ID Range=(2304, 2353), Timestamps=(477110, 492981), Overlap={2305, 2306, 2307, 2308, 2309, 2310}\n",
            "\n",
            "Ground Truth: ID Range=(2402, 2407), Timestamps=(497211, 498267), Class=1\n",
            "\n",
            "Ground Truth: ID Range=(2425, 2430), Timestamps=(502485, 503541), Class=1\n",
            "Detection: ID Range=(2424, 2534), Timestamps=(502478, 531073), Overlap={2425, 2426, 2427, 2428, 2429, 2430}\n",
            "\u001b[1m81/81\u001b[0m \u001b[32m━━━━━━━━━━━━━━━━━━━━\u001b[0m\u001b[37m\u001b[0m \u001b[1m2s\u001b[0m 21ms/step\n",
            "\n",
            "Ground Truth: ID Range=(135, 142), Timestamps=(28323, 30679), Class=2\n",
            "\n",
            "Ground Truth: ID Range=(160, 170), Timestamps=(33860, 37504), Class=2\n",
            "\n",
            "Ground Truth: ID Range=(173, 178), Timestamps=(37517, 38573), Class=1\n",
            "Detection: ID Range=(173, 294), Timestamps=(37517, 68396), Overlap={173, 174, 175, 176, 177, 178}\n",
            "\n",
            "Ground Truth: ID Range=(311, 321), Timestamps=(66029, 68384), Class=2\n",
            "\n",
            "Ground Truth: ID Range=(402, 409), Timestamps=(84241, 86593), Class=2\n",
            "\n",
            "Ground Truth: ID Range=(527, 534), Timestamps=(109849, 112204), Class=2\n",
            "\n",
            "Ground Truth: ID Range=(648, 655), Timestamps=(134412, 136757), Class=2\n",
            "\n",
            "Ground Truth: ID Range=(691, 698), Timestamps=(143116, 145461), Class=2\n",
            "\n",
            "Ground Truth: ID Range=(809, 818), Timestamps=(167657, 170018), Class=2\n",
            "\n",
            "Ground Truth: ID Range=(820, 830), Timestamps=(170026, 172390), Class=2\n",
            "\n",
            "Ground Truth: ID Range=(837, 850), Timestamps=(173456, 177128), Class=2\n",
            "\n",
            "Ground Truth: ID Range=(1109, 1115), Timestamps=(228917, 231264), Class=2\n",
            "\n",
            "Ground Truth: ID Range=(1123, 1132), Timestamps=(232333, 234699), Class=2\n",
            "\n",
            "Ground Truth: ID Range=(1163, 1172), Timestamps=(241041, 243405), Class=2\n",
            "\n",
            "Ground Truth: ID Range=(1243, 1252), Timestamps=(257153, 259512), Class=2\n",
            "\n",
            "Ground Truth: ID Range=(1308, 1324), Timestamps=(271129, 274806), Class=2\n",
            "\n",
            "Ground Truth: ID Range=(1406, 1416), Timestamps=(291706, 294072), Class=2\n",
            "\n",
            "Ground Truth: ID Range=(1509, 1518), Timestamps=(312057, 314432), Class=2\n",
            "\n",
            "Ground Truth: ID Range=(1715, 1721), Timestamps=(353552, 355901), Class=2\n",
            "Detection: ID Range=(1705, 2588), Timestamps=(352470, 539018), Overlap={1715, 1716, 1717, 1718, 1719, 1720, 1721}\n",
            "\n",
            "Ground Truth: ID Range=(1755, 1764), Timestamps=(362256, 364617), Class=2\n",
            "Detection: ID Range=(1705, 2588), Timestamps=(352470, 539018), Overlap={1760, 1761, 1762, 1763, 1764, 1755, 1756, 1757, 1758, 1759}\n",
            "\n",
            "Ground Truth: ID Range=(1873, 1882), Timestamps=(386810, 389176), Class=2\n",
            "Detection: ID Range=(1705, 2588), Timestamps=(352470, 539018), Overlap={1873, 1874, 1875, 1876, 1877, 1878, 1879, 1880, 1881, 1882}\n",
            "\n",
            "Ground Truth: ID Range=(1886, 1892), Timestamps=(389193, 391549), Class=2\n",
            "Detection: ID Range=(1705, 2588), Timestamps=(352470, 539018), Overlap={1888, 1889, 1890, 1891, 1892, 1886, 1887}\n",
            "\n",
            "Ground Truth: ID Range=(1907, 1913), Timestamps=(393685, 396036), Class=2\n",
            "Detection: ID Range=(1705, 2588), Timestamps=(352470, 539018), Overlap={1907, 1908, 1909, 1910, 1911, 1912, 1913}\n",
            "\n",
            "Ground Truth: ID Range=(1966, 1975), Timestamps=(406609, 408980), Class=2\n",
            "Detection: ID Range=(1705, 2588), Timestamps=(352470, 539018), Overlap={1966, 1967, 1968, 1969, 1970, 1971, 1972, 1973, 1974, 1975}\n",
            "\n",
            "Ground Truth: ID Range=(2068, 2077), Timestamps=(426968, 429344), Class=2\n",
            "Detection: ID Range=(1705, 2588), Timestamps=(352470, 539018), Overlap={2068, 2069, 2070, 2071, 2072, 2073, 2074, 2075, 2076, 2077}\n",
            "\n",
            "Ground Truth: ID Range=(2312, 2321), Timestamps=(476906, 479278), Class=2\n",
            "Detection: ID Range=(1705, 2588), Timestamps=(352470, 539018), Overlap={2312, 2313, 2314, 2315, 2316, 2317, 2318, 2319, 2320, 2321}\n",
            "\n",
            "Ground Truth: ID Range=(2455, 2463), Timestamps=(505721, 508077), Class=2\n",
            "Detection: ID Range=(1705, 2588), Timestamps=(352470, 539018), Overlap={2455, 2456, 2457, 2458, 2459, 2460, 2461, 2462, 2463}\n",
            "\n",
            "Ground Truth: ID Range=(2531, 2541), Timestamps=(521822, 524198), Class=2\n",
            "Detection: ID Range=(1705, 2588), Timestamps=(352470, 539018), Overlap={2531, 2532, 2533, 2534, 2535, 2536, 2537, 2538, 2539, 2540, 2541}\n",
            "\u001b[1m86/86\u001b[0m \u001b[32m━━━━━━━━━━━━━━━━━━━━\u001b[0m\u001b[37m\u001b[0m \u001b[1m2s\u001b[0m 21ms/step\n",
            "\n",
            "Ground Truth: ID Range=(139, 142), Timestamps=(29392, 29405), Class=3\n",
            "Detection: ID Range=(4, 201), Timestamps=(1931, 43237), Overlap={139, 140, 141, 142}\n",
            "\n",
            "Ground Truth: ID Range=(145, 148), Timestamps=(30452, 30466), Class=3\n",
            "Detection: ID Range=(4, 201), Timestamps=(1931, 43237), Overlap={145, 146, 147, 148}\n",
            "\n",
            "Ground Truth: ID Range=(151, 154), Timestamps=(31512, 31526), Class=3\n",
            "Detection: ID Range=(4, 201), Timestamps=(1931, 43237), Overlap={152, 153, 154, 151}\n",
            "\n",
            "Ground Truth: ID Range=(160, 163), Timestamps=(32585, 32599), Class=3\n",
            "Detection: ID Range=(4, 201), Timestamps=(1931, 43237), Overlap={160, 161, 162, 163}\n",
            "\n",
            "Ground Truth: ID Range=(173, 176), Timestamps=(34710, 34723), Class=3\n",
            "Detection: ID Range=(4, 201), Timestamps=(1931, 43237), Overlap={176, 173, 174, 175}\n",
            "\n",
            "Ground Truth: ID Range=(179, 182), Timestamps=(35770, 35783), Class=3\n",
            "Detection: ID Range=(4, 201), Timestamps=(1931, 43237), Overlap={179, 180, 181, 182}\n",
            "\n",
            "Ground Truth: ID Range=(185, 188), Timestamps=(36830, 36843), Class=3\n",
            "Detection: ID Range=(4, 201), Timestamps=(1931, 43237), Overlap={185, 186, 187, 188}\n",
            "\n",
            "Ground Truth: ID Range=(194, 197), Timestamps=(37903, 37917), Class=3\n",
            "Detection: ID Range=(4, 201), Timestamps=(1931, 43237), Overlap={194, 195, 196, 197}\n",
            "\n",
            "Ground Truth: ID Range=(200, 203), Timestamps=(38965, 38978), Class=3\n",
            "Detection: ID Range=(4, 201), Timestamps=(1931, 43237), Overlap={200, 201}\n",
            "\n",
            "Ground Truth: ID Range=(213, 216), Timestamps=(41089, 41103), Class=3\n",
            "\n",
            "Ground Truth: ID Range=(222, 225), Timestamps=(42164, 42177), Class=3\n",
            "\n",
            "Ground Truth: ID Range=(235, 238), Timestamps=(44288, 44302), Class=3\n",
            "Detection: ID Range=(235, 235), Timestamps=(44288, 48556), Overlap={235}\n",
            "\n",
            "Ground Truth: ID Range=(241, 244), Timestamps=(45349, 45362), Class=3\n",
            "\n",
            "Ground Truth: ID Range=(247, 250), Timestamps=(46409, 46422), Class=3\n",
            "\n",
            "Ground Truth: ID Range=(256, 259), Timestamps=(47483, 47496), Class=3\n",
            "\n",
            "Ground Truth: ID Range=(269, 272), Timestamps=(49607, 49621), Class=3\n",
            "Detection: ID Range=(269, 349), Timestamps=(49607, 68700), Overlap={272, 269, 270, 271}\n",
            "\n",
            "Ground Truth: ID Range=(275, 278), Timestamps=(50668, 50681), Class=3\n",
            "Detection: ID Range=(269, 349), Timestamps=(49607, 68700), Overlap={275, 276, 277, 278}\n",
            "\n",
            "Ground Truth: ID Range=(281, 284), Timestamps=(51728, 51741), Class=3\n",
            "Detection: ID Range=(269, 349), Timestamps=(49607, 68700), Overlap={281, 282, 283, 284}\n",
            "\n",
            "Ground Truth: ID Range=(290, 293), Timestamps=(52802, 52816), Class=3\n",
            "Detection: ID Range=(269, 349), Timestamps=(49607, 68700), Overlap={290, 291, 292, 293}\n",
            "\n",
            "Ground Truth: ID Range=(303, 306), Timestamps=(54928, 54942), Class=3\n",
            "Detection: ID Range=(269, 349), Timestamps=(49607, 68700), Overlap={304, 305, 306, 303}\n",
            "\n",
            "Ground Truth: ID Range=(309, 312), Timestamps=(55989, 56002), Class=3\n",
            "Detection: ID Range=(269, 349), Timestamps=(49607, 68700), Overlap={312, 309, 310, 311}\n",
            "\n",
            "Ground Truth: ID Range=(318, 321), Timestamps=(57062, 57075), Class=3\n",
            "Detection: ID Range=(269, 349), Timestamps=(49607, 68700), Overlap={320, 321, 318, 319}\n",
            "\n",
            "Ground Truth: ID Range=(544, 551), Timestamps=(102502, 103569), Class=1\n",
            "\n",
            "Ground Truth: ID Range=(810, 820), Timestamps=(156401, 159396), Class=2\n",
            "\n",
            "Ground Truth: ID Range=(865, 871), Timestamps=(167865, 169185), Class=2\n",
            "\n",
            "Ground Truth: ID Range=(938, 944), Timestamps=(182923, 184242), Class=2\n",
            "\n",
            "Ground Truth: ID Range=(1026, 1032), Timestamps=(201145, 202462), Class=2\n",
            "\n",
            "Ground Truth: ID Range=(1216, 1219), Timestamps=(239462, 239476), Class=3\n",
            "\n",
            "Ground Truth: ID Range=(1222, 1225), Timestamps=(240523, 240537), Class=3\n",
            "\n",
            "Ground Truth: ID Range=(1228, 1231), Timestamps=(241584, 241597), Class=3\n",
            "\n",
            "Ground Truth: ID Range=(1237, 1240), Timestamps=(242658, 242672), Class=3\n",
            "\n",
            "Ground Truth: ID Range=(1250, 1253), Timestamps=(244783, 244796), Class=3\n",
            "\n",
            "Ground Truth: ID Range=(1256, 1259), Timestamps=(245843, 245857), Class=3\n",
            "\n",
            "Ground Truth: ID Range=(1262, 1265), Timestamps=(246905, 246919), Class=3\n",
            "\n",
            "Ground Truth: ID Range=(1271, 1274), Timestamps=(247980, 247993), Class=3\n",
            "\n",
            "Ground Truth: ID Range=(1284, 1287), Timestamps=(250104, 250118), Class=3\n",
            "\n",
            "Ground Truth: ID Range=(1290, 1293), Timestamps=(251165, 251179), Class=3\n",
            "\n",
            "Ground Truth: ID Range=(1299, 1302), Timestamps=(252239, 252252), Class=3\n",
            "\n",
            "Ground Truth: ID Range=(1312, 1315), Timestamps=(254364, 254379), Class=3\n",
            "\n",
            "Ground Truth: ID Range=(1318, 1321), Timestamps=(255425, 255438), Class=3\n",
            "\n",
            "Ground Truth: ID Range=(1324, 1327), Timestamps=(256485, 256498), Class=3\n",
            "\n",
            "Ground Truth: ID Range=(1333, 1336), Timestamps=(257560, 257573), Class=3\n",
            "\n",
            "Ground Truth: ID Range=(1346, 1349), Timestamps=(259686, 259699), Class=3\n",
            "\n",
            "Ground Truth: ID Range=(1352, 1355), Timestamps=(260745, 260758), Class=3\n",
            "\n",
            "Ground Truth: ID Range=(1358, 1361), Timestamps=(261805, 261820), Class=3\n",
            "\n",
            "Ground Truth: ID Range=(1367, 1370), Timestamps=(262880, 262894), Class=3\n",
            "\n",
            "Ground Truth: ID Range=(1380, 1383), Timestamps=(265005, 265019), Class=3\n",
            "\n",
            "Ground Truth: ID Range=(1386, 1389), Timestamps=(266065, 266078), Class=3\n",
            "\n",
            "Ground Truth: ID Range=(1395, 1398), Timestamps=(267139, 267153), Class=3\n",
            "\n",
            "Ground Truth: ID Range=(1408, 1411), Timestamps=(269268, 269282), Class=3\n",
            "\n",
            "Ground Truth: ID Range=(1414, 1417), Timestamps=(270328, 270341), Class=3\n",
            "\n",
            "Ground Truth: ID Range=(1502, 1508), Timestamps=(287264, 288569), Class=2\n",
            "\n",
            "Ground Truth: ID Range=(2056, 2060), Timestamps=(398543, 399879), Class=2\n",
            "Detection: ID Range=(1825, 2738), Timestamps=(353051, 533325), Overlap={2056, 2057, 2058, 2059, 2060}\n",
            "\n",
            "Ground Truth: ID Range=(2332, 2335), Timestamps=(454836, 454851), Class=3\n",
            "Detection: ID Range=(1825, 2738), Timestamps=(353051, 533325), Overlap={2332, 2333, 2334, 2335}\n",
            "\n",
            "Ground Truth: ID Range=(2338, 2341), Timestamps=(455897, 455910), Class=3\n",
            "Detection: ID Range=(1825, 2738), Timestamps=(353051, 533325), Overlap={2338, 2339, 2340, 2341}\n",
            "\n",
            "Ground Truth: ID Range=(2347, 2350), Timestamps=(456971, 456984), Class=3\n",
            "Detection: ID Range=(1825, 2738), Timestamps=(353051, 533325), Overlap={2347, 2348, 2349, 2350}\n",
            "\n",
            "Ground Truth: ID Range=(2360, 2363), Timestamps=(459098, 459112), Class=3\n",
            "Detection: ID Range=(1825, 2738), Timestamps=(353051, 533325), Overlap={2360, 2361, 2362, 2363}\n",
            "\n",
            "Ground Truth: ID Range=(2366, 2369), Timestamps=(460159, 460172), Class=3\n",
            "Detection: ID Range=(1825, 2738), Timestamps=(353051, 533325), Overlap={2368, 2369, 2366, 2367}\n",
            "\n",
            "Ground Truth: ID Range=(2372, 2375), Timestamps=(461219, 461232), Class=3\n",
            "Detection: ID Range=(1825, 2738), Timestamps=(353051, 533325), Overlap={2372, 2373, 2374, 2375}\n",
            "\n",
            "Ground Truth: ID Range=(2381, 2384), Timestamps=(462295, 462309), Class=3\n",
            "Detection: ID Range=(1825, 2738), Timestamps=(353051, 533325), Overlap={2384, 2381, 2382, 2383}\n",
            "\n",
            "Ground Truth: ID Range=(2394, 2397), Timestamps=(464421, 464435), Class=3\n",
            "Detection: ID Range=(1825, 2738), Timestamps=(353051, 533325), Overlap={2394, 2395, 2396, 2397}\n",
            "\n",
            "Ground Truth: ID Range=(2400, 2403), Timestamps=(465482, 465496), Class=3\n",
            "Detection: ID Range=(1825, 2738), Timestamps=(353051, 533325), Overlap={2400, 2401, 2402, 2403}\n",
            "\n",
            "Ground Truth: ID Range=(2406, 2409), Timestamps=(466542, 466555), Class=3\n",
            "Detection: ID Range=(1825, 2738), Timestamps=(353051, 533325), Overlap={2408, 2409, 2406, 2407}\n",
            "\n",
            "Ground Truth: ID Range=(2415, 2418), Timestamps=(467616, 467629), Class=3\n",
            "Detection: ID Range=(1825, 2738), Timestamps=(353051, 533325), Overlap={2416, 2417, 2418, 2415}\n",
            "\n",
            "Ground Truth: ID Range=(2428, 2431), Timestamps=(469743, 469757), Class=3\n",
            "Detection: ID Range=(1825, 2738), Timestamps=(353051, 533325), Overlap={2428, 2429, 2430, 2431}\n",
            "\n",
            "Ground Truth: ID Range=(2434, 2437), Timestamps=(470804, 470818), Class=3\n",
            "Detection: ID Range=(1825, 2738), Timestamps=(353051, 533325), Overlap={2434, 2435, 2436, 2437}\n",
            "\n",
            "Ground Truth: ID Range=(2440, 2443), Timestamps=(471864, 471877), Class=3\n",
            "Detection: ID Range=(1825, 2738), Timestamps=(353051, 533325), Overlap={2440, 2441, 2442, 2443}\n",
            "\n",
            "Ground Truth: ID Range=(2449, 2452), Timestamps=(472938, 472952), Class=3\n",
            "Detection: ID Range=(1825, 2738), Timestamps=(353051, 533325), Overlap={2449, 2450, 2451, 2452}\n",
            "\n",
            "Ground Truth: ID Range=(2462, 2465), Timestamps=(475066, 475080), Class=3\n",
            "Detection: ID Range=(1825, 2738), Timestamps=(353051, 533325), Overlap={2464, 2465, 2462, 2463}\n",
            "\n",
            "Ground Truth: ID Range=(2468, 2471), Timestamps=(476127, 476141), Class=3\n",
            "Detection: ID Range=(1825, 2738), Timestamps=(353051, 533325), Overlap={2468, 2469, 2470, 2471}\n",
            "\n",
            "Ground Truth: ID Range=(2477, 2480), Timestamps=(477201, 477215), Class=3\n",
            "Detection: ID Range=(1825, 2738), Timestamps=(353051, 533325), Overlap={2480, 2477, 2478, 2479}\n",
            "\n",
            "Ground Truth: ID Range=(2490, 2493), Timestamps=(479326, 479339), Class=3\n",
            "Detection: ID Range=(1825, 2738), Timestamps=(353051, 533325), Overlap={2490, 2491, 2492, 2493}\n",
            "\n",
            "Ground Truth: ID Range=(2496, 2499), Timestamps=(480391, 480405), Class=3\n",
            "Detection: ID Range=(1825, 2738), Timestamps=(353051, 533325), Overlap={2496, 2497, 2498, 2499}\n",
            "\n",
            "Ground Truth: ID Range=(2502, 2505), Timestamps=(481452, 481466), Class=3\n",
            "Detection: ID Range=(1825, 2738), Timestamps=(353051, 533325), Overlap={2504, 2505, 2502, 2503}\n",
            "\n",
            "Ground Truth: ID Range=(2511, 2514), Timestamps=(482525, 482539), Class=3\n",
            "Detection: ID Range=(1825, 2738), Timestamps=(353051, 533325), Overlap={2512, 2513, 2514, 2511}\n"
          ]
        }
      ]
    },
    {
      "cell_type": "code",
      "source": [
        "detection"
      ],
      "metadata": {
        "colab": {
          "base_uri": "https://localhost:8080/"
        },
        "id": "LCz-Pyu9J_ud",
        "outputId": "0a178c78-9001-4c4a-a3dd-c5c1f782bbfc"
      },
      "execution_count": 14,
      "outputs": [
        {
          "output_type": "execute_result",
          "data": {
            "text/plain": [
              "[[(4, 201), (1931, 43237), 'trace_trial3.json'],\n",
              " [(235, 235), (44288, 48556), 'trace_trial3.json'],\n",
              " [(269, 349), (49607, 68700), 'trace_trial3.json'],\n",
              " [(1825, 2738), (353051, 533325), 'trace_trial3.json']]"
            ]
          },
          "metadata": {},
          "execution_count": 14
        }
      ]
    },
    {
      "cell_type": "code",
      "source": [
        "y_pred_all = np.array(y_pred_all)\n",
        "y_true_all = np.array(y_true_all)\n",
        "\n",
        "\n",
        "# Calculate evaluation metrics\n",
        "precision = precision_score(y_true_all, y_pred_all)\n",
        "recall = recall_score(y_true_all, y_pred_all)\n",
        "f1 = f1_score(y_true_all, y_pred_all)\n",
        "\n",
        "print(f\"Precision: {precision:.4f}\")\n",
        "print(f\"Recall: {recall:.4f}\")\n",
        "print(f\"F1 Score: {f1:.4f}\")"
      ],
      "metadata": {
        "colab": {
          "base_uri": "https://localhost:8080/"
        },
        "id": "FFlemcCTKAqd",
        "outputId": "0f4ccad8-b96b-44bd-b27f-38c657c9b8f7"
      },
      "execution_count": 15,
      "outputs": [
        {
          "output_type": "stream",
          "name": "stdout",
          "text": [
            "Precision: 0.0938\n",
            "Recall: 0.3801\n",
            "F1 Score: 0.1505\n"
          ]
        }
      ]
    },
    {
      "cell_type": "code",
      "source": [
        "conf_matrix = confusion_matrix(y_true_all, y_pred_all)\n",
        "disp = ConfusionMatrixDisplay(confusion_matrix=conf_matrix, display_labels=['Normal', 'Anomaly'])\n",
        "disp.plot(cmap='Blues')\n",
        "plt.title(\"Confusion Matrix\")\n",
        "plt.show()"
      ],
      "metadata": {
        "colab": {
          "base_uri": "https://localhost:8080/",
          "height": 472
        },
        "id": "drQcLaLrKGEy",
        "outputId": "6ba1253c-361b-4280-ca02-c1e52b29f645"
      },
      "execution_count": 16,
      "outputs": [
        {
          "output_type": "display_data",
          "data": {
            "text/plain": [
              "<Figure size 640x480 with 2 Axes>"
            ],
            "image/png": "[encoded data removed]"
          },
          "metadata": {}
        }
      ]
    }
  ]
}