{
 "cells": [
  {
   "cell_type": "code",
   "execution_count": 1,
   "metadata": {},
   "outputs": [],
   "source": [
    "# Clustering methods\n",
    "import json\n",
    "import numpy as np\n",
    "import pandas as pd\n",
    "import os\n",
    "from libraries.utils import get_paths, read_traces, read_json, mapint2var, is_consistent"
   ]
  },
  {
   "cell_type": "code",
   "execution_count": 2,
   "metadata": {},
   "outputs": [
    {
     "name": "stdout",
     "output_type": "stream",
     "text": [
      "Normal base path: ./trace_data/theft_protection/single_thread/version_3/normal\n",
      "Faulty base path: ./trace_data/theft_protection/single_thread/version_3/faulty_data\n"
     ]
    }
   ],
   "source": [
    "# Configuration\n",
    "CODE = 'theft_protection'               ### application (code) theft_protection, mamba2, lora_ducy\n",
    "BEHAVIOUR_FAULTY = 'faulty_data'        ### normal, faulty_data\n",
    "BEHAVIOUR_NORMAL = 'normal'             ### normal, faulty_data\n",
    "THREAD = 'single'                       ### single, multi\n",
    "VER = 3                                 ### format of data collection\n",
    "\n",
    "base_dir = './trace_data'              ### can be replaced with 'csv', 'exe_plot', 'histogram'\n",
    "normalbase_path = base_dir+f'/{CODE}/{THREAD}_thread/version_{VER}/{BEHAVIOUR_NORMAL}'\n",
    "faultybase_path = base_dir+f'/{CODE}/{THREAD}_thread/version_{VER}/{BEHAVIOUR_FAULTY}'\n",
    "\n",
    "print(\"Normal base path:\", normalbase_path)\n",
    "print(\"Faulty base path:\", faultybase_path)"
   ]
  },
  {
   "cell_type": "code",
   "execution_count": 3,
   "metadata": {},
   "outputs": [
    {
     "name": "stdout",
     "output_type": "stream",
     "text": [
      "Train base path: ./trace_data/theft_protection/single_thread/version_3/normal\\train_data\n"
     ]
    }
   ],
   "source": [
    "train_base_path = os.path.join(normalbase_path, 'train_data')\n",
    "print(\"Train base path:\", train_base_path)\n",
    "\n",
    "train_data_path = [os.path.join(train_base_path, x) for x in os.listdir(train_base_path)]\n",
    "train_varlist_path = [os.path.join(normalbase_path, x) for x in os.listdir(normalbase_path) if 'varlist' in x]\n",
    "\n",
    "######### get paths #######################\n",
    "paths_log, paths_traces, varlist_path, paths_label = get_paths(faultybase_path)\n",
    "\n",
    "train_data_path = [x for x in train_data_path if '.DS_Store' not in x]\n",
    "train_varlist_path = [x for x in train_varlist_path if '.DS_Store' not in x]\n",
    "paths_log = [x for x in paths_log if '.DS_Store' not in x]\n",
    "paths_traces = [x for x in paths_traces if '.DS_Store' not in x]\n",
    "varlist_path = [x for x in varlist_path if '.DS_Store' not in x]\n",
    "paths_label = [x for x in paths_label if '.DS_Store' not in x]\n",
    "\n",
    "paths_log.sort()\n",
    "paths_traces.sort()\n",
    "varlist_path.sort()\n",
    "paths_label.sort()\n",
    "\n",
    "test_data_path = paths_traces\n",
    "test_label_path = paths_label"
   ]
  },
  {
   "cell_type": "code",
   "execution_count": 4,
   "metadata": {},
   "outputs": [],
   "source": [
    "# Function to read the data and transform into separate files with 50 as sequence length and window size of 1\n",
    "import os\n",
    "def read_process_train_data(file_path, sequence_length, window_size):\n",
    "    count = 0\n",
    "    output_directory = './train_data_processed/'\n",
    "    filename_dictionary = {}\n",
    "    if not os.path.exists(output_directory):\n",
    "        os.makedirs(output_directory)\n",
    "\n",
    "    for filename in file_path:\n",
    "        result = []\n",
    "        print(\"Reading file:\", filename)\n",
    "        count = count + 1\n",
    "        with open(filename, 'r') as f:\n",
    "            data = json.load(f)\n",
    "        \n",
    "        event_ids = [item[0] for item in data]\n",
    "        timestamps = [item[1] for item in data]\n",
    "        timestamp_difference = np.diff(timestamps).tolist()\n",
    "        trimmed_event_ids = event_ids[1:]\n",
    "\n",
    "        filename = f'trace_trial{count}' \n",
    "\n",
    "        for i in range(0, len(trimmed_event_ids) - sequence_length + 1, window_size):\n",
    "            event_id_seq_len = trimmed_event_ids[i:i+sequence_length]\n",
    "            timestamp_diff_seq_len = timestamp_difference[i:i+sequence_length]\n",
    "            result = [event_id_seq_len, timestamp_diff_seq_len]\n",
    "\n",
    "            index_start = i\n",
    "            index_end = i + sequence_length\n",
    "            new_filename = f'{filename}_{index_start}-{index_end}.json'\n",
    "            output_path = os.path.join(output_directory, new_filename)\n",
    "\n",
    "            #Saving the file\n",
    "            with open(output_path, 'w') as out_file:\n",
    "                json.dump(result, out_file)\n",
    "            \n",
    "            #Saving to dictionary for easy backtracking\n",
    "            filename_dictionary[new_filename] = {\n",
    "                \"source_file\": filename,\n",
    "                \"data_start_index\": index_start,\n",
    "                \"data_end_index\": index_end,\n",
    "                \"sequence_length\": sequence_length,\n",
    "                \"window_size\": window_size\n",
    "            }\n",
    "    \n",
    "    dictionary_path = f'{output_directory}/file_dict/'\n",
    "    if not os.path.exists(dictionary_path):\n",
    "        os.makedirs(dictionary_path)\n",
    "    \n",
    "    dict_path = os.path.join(dictionary_path,'filename_dict.json')\n",
    "\n",
    "    with open(dict_path, 'w') as track_dict:\n",
    "        json.dump(filename_dictionary, track_dict, indent=2)\n",
    "    \n",
    "    print(\"Filename Dictionary saved to :\", dict_path)"
   ]
  },
  {
   "cell_type": "code",
   "execution_count": 5,
   "metadata": {},
   "outputs": [
    {
     "data": {
      "text/plain": [
       "['./trace_data/theft_protection/single_thread/version_3/normal\\\\train_data\\\\interval_0_110.json',\n",
       " './trace_data/theft_protection/single_thread/version_3/normal\\\\train_data\\\\interval_1250_2000.json',\n",
       " './trace_data/theft_protection/single_thread/version_3/normal\\\\train_data\\\\interval_150_900.json',\n",
       " './trace_data/theft_protection/single_thread/version_3/normal\\\\train_data\\\\interval_2050_2300.json']"
      ]
     },
     "execution_count": 5,
     "metadata": {},
     "output_type": "execute_result"
    }
   ],
   "source": [
    "train_data_path"
   ]
  },
  {
   "cell_type": "code",
   "execution_count": 6,
   "metadata": {},
   "outputs": [
    {
     "name": "stdout",
     "output_type": "stream",
     "text": [
      "Reading file: ./trace_data/theft_protection/single_thread/version_3/normal\\train_data\\interval_0_110.json\n",
      "Reading file: ./trace_data/theft_protection/single_thread/version_3/normal\\train_data\\interval_1250_2000.json\n",
      "Reading file: ./trace_data/theft_protection/single_thread/version_3/normal\\train_data\\interval_150_900.json\n",
      "Reading file: ./trace_data/theft_protection/single_thread/version_3/normal\\train_data\\interval_2050_2300.json\n",
      "Filename Dictionary saved to : ./train_data_processed//file_dict/filename_dict.json\n"
     ]
    }
   ],
   "source": [
    "# processing the data\n",
    "sequence_length = 50\n",
    "window_size = 1\n",
    "train_data_processed = read_process_train_data(train_data_path,sequence_length,window_size)"
   ]
  },
  {
   "cell_type": "code",
   "execution_count": 7,
   "metadata": {},
   "outputs": [],
   "source": [
    "import os\n",
    "import json\n",
    "def load_train_data(file_path):\n",
    "    traces = []\n",
    "    filenames = []\n",
    "    for file in os.listdir(file_path):\n",
    "        if file.endswith('.json') and not file.startswith('filename_dict'):\n",
    "            with open(os.path.join(file_path, file), 'r') as f:\n",
    "                data = json.load(f)\n",
    "                traces.append(data)\n",
    "                filenames.append(file)\n",
    "    return traces, filenames\n"
   ]
  },
  {
   "cell_type": "code",
   "execution_count": 8,
   "metadata": {},
   "outputs": [],
   "source": [
    "# Feature extraction using Seglearn\n",
    "from seglearn.feature_functions import all_features\n",
    "from seglearn.transform import FeatureRep\n",
    "\n",
    "def extract_features_seglearn(traces):\n",
    "    feature_vectors = []\n",
    "    funcs = all_features()\n",
    "    if 'hist4' in funcs:\n",
    "        del funcs['hist4']\n",
    "    feature_names = list(funcs.keys())\n",
    "\n",
    "\n",
    "    for i,trace in enumerate(traces):\n",
    "        event_ids = np.array(trace[0]).reshape(1,-1,1)\n",
    "        timestamp_diffs = np.array(trace[1]).reshape(1,-1,1)\n",
    "\n",
    "        feat_all = []\n",
    "        for name in feature_names:\n",
    "            func = funcs[name]\n",
    "            feat_event = func(event_ids)\n",
    "            feat_time = func(timestamp_diffs)\n",
    "            feat_all.extend(np.array(feat_event).reshape(-1,))\n",
    "            feat_all.extend(np.array(feat_time).reshape(-1,))\n",
    "\n",
    "        \n",
    "        feature_vectors.append(feat_all)\n",
    "\n",
    "    final_feature_names = []\n",
    "    for name in feature_names:\n",
    "        final_feature_names.append(f\"{name}_event\")\n",
    "        final_feature_names.append(f\"{name}_time\")\n",
    "    print(\"final_feature_names\",len(final_feature_names))\n",
    "\n",
    "    return pd.DataFrame(feature_vectors, columns=final_feature_names)\n",
    "    "
   ]
  },
  {
   "cell_type": "code",
   "execution_count": 9,
   "metadata": {},
   "outputs": [],
   "source": [
    "processed_train_data_path = './train_data_processed/'\n",
    "traces, files = load_train_data(processed_train_data_path)"
   ]
  },
  {
   "cell_type": "code",
   "execution_count": 10,
   "metadata": {},
   "outputs": [
    {
     "name": "stdout",
     "output_type": "stream",
     "text": [
      "final_feature_names 54\n"
     ]
    }
   ],
   "source": [
    "features_df = extract_features_seglearn(traces)"
   ]
  },
  {
   "cell_type": "code",
   "execution_count": 11,
   "metadata": {},
   "outputs": [],
   "source": [
    "from sklearn.cluster import KMeans\n",
    "\n",
    "def cluster_features(df, n_clusters):\n",
    "    kmeans = KMeans(n_clusters,init=\"k-means++\", max_iter=300, n_init=30, random_state=42)\n",
    "    kmeans.fit(df)\n",
    "    labels = kmeans.labels_\n",
    "    print(\"kmeans:\", labels)\n",
    "    return kmeans"
   ]
  },
  {
   "cell_type": "code",
   "execution_count": 12,
   "metadata": {},
   "outputs": [],
   "source": [
    "from sklearn.metrics import silhouette_score\n",
    "\n",
    "# Finding the best value for n clusters\n",
    "def find_n_clusters_value(data, min_k, max_k):\n",
    "    best_k = min_k\n",
    "    best_score = -1\n",
    "\n",
    "    for k in range(min_k, max_k + 1):\n",
    "        kmeans = KMeans(n_clusters=k, random_state=42, n_init=10)\n",
    "        labels = kmeans.fit_predict(data)\n",
    "        score = silhouette_score(data, labels)\n",
    "        print(f\"Silhouette score for k={k}: {score:.4f}\")\n",
    "        if score > best_score:\n",
    "            best_score = score\n",
    "            best_k = k\n",
    "    \n",
    "    return best_k"
   ]
  },
  {
   "cell_type": "code",
   "execution_count": 13,
   "metadata": {},
   "outputs": [
    {
     "name": "stderr",
     "output_type": "stream",
     "text": [
      "C:\\Users\\User\\AppData\\Local\\Packages\\PythonSoftwareFoundation.Python.3.11_qbz5n2kfra8p0\\LocalCache\\local-packages\\Python311\\site-packages\\joblib\\externals\\loky\\backend\\context.py:136: UserWarning: Could not find the number of physical cores for the following reason:\n",
      "[WinError 2] The system cannot find the file specified\n",
      "Returning the number of logical cores instead. You can silence this warning by setting LOKY_MAX_CPU_COUNT to the number of cores you want to use.\n",
      "  warnings.warn(\n",
      "  File \"C:\\Users\\User\\AppData\\Local\\Packages\\PythonSoftwareFoundation.Python.3.11_qbz5n2kfra8p0\\LocalCache\\local-packages\\Python311\\site-packages\\joblib\\externals\\loky\\backend\\context.py\", line 257, in _count_physical_cores\n",
      "    cpu_info = subprocess.run(\n",
      "               ^^^^^^^^^^^^^^^\n",
      "  File \"C:\\Program Files\\WindowsApps\\PythonSoftwareFoundation.Python.3.11_3.11.2544.0_x64__qbz5n2kfra8p0\\Lib\\subprocess.py\", line 548, in run\n",
      "    with Popen(*popenargs, **kwargs) as process:\n",
      "         ^^^^^^^^^^^^^^^^^^^^^^^^^^^\n",
      "  File \"C:\\Program Files\\WindowsApps\\PythonSoftwareFoundation.Python.3.11_3.11.2544.0_x64__qbz5n2kfra8p0\\Lib\\subprocess.py\", line 1026, in __init__\n",
      "    self._execute_child(args, executable, preexec_fn, close_fds,\n",
      "  File \"C:\\Program Files\\WindowsApps\\PythonSoftwareFoundation.Python.3.11_3.11.2544.0_x64__qbz5n2kfra8p0\\Lib\\subprocess.py\", line 1538, in _execute_child\n",
      "    hp, ht, pid, tid = _winapi.CreateProcess(executable, args,\n",
      "                       ^^^^^^^^^^^^^^^^^^^^^^^^^^^^^^^^^^^^^^^\n"
     ]
    },
    {
     "name": "stdout",
     "output_type": "stream",
     "text": [
      "Silhouette score for k=2: 0.4721\n",
      "Silhouette score for k=3: 0.4674\n",
      "Silhouette score for k=4: 0.4560\n",
      "Silhouette score for k=5: 0.4469\n",
      "Silhouette score for k=6: 0.4039\n",
      "Silhouette score for k=7: 0.4051\n",
      "Silhouette score for k=8: 0.3846\n",
      "Silhouette score for k=9: 0.3998\n",
      "Silhouette score for k=10: 0.4113\n",
      "\n",
      " optimal number of clusters:  2\n",
      "kmeans: [0 0 0 ... 1 1 0]\n",
      "\n",
      " Cluster assignments\n",
      "                          file  cluster\n",
      "0       trace_trial1_0-50.json        0\n",
      "1       trace_trial1_1-51.json        0\n",
      "2      trace_trial1_10-60.json        0\n",
      "3      trace_trial1_11-61.json        0\n",
      "4      trace_trial1_12-62.json        1\n",
      "...                        ...      ...\n",
      "1655  trace_trial4_95-145.json        1\n",
      "1656  trace_trial4_96-146.json        1\n",
      "1657  trace_trial4_97-147.json        1\n",
      "1658  trace_trial4_98-148.json        1\n",
      "1659  trace_trial4_99-149.json        0\n",
      "\n",
      "[1660 rows x 2 columns]\n",
      "\n",
      " file saved\n"
     ]
    }
   ],
   "source": [
    "# Clustering\n",
    "from sklearn.preprocessing import StandardScaler\n",
    "import joblib\n",
    "\n",
    "X_scaled = StandardScaler().fit_transform(features_df)\n",
    "\n",
    "N_Clusters = find_n_clusters_value(X_scaled, min_k=2, max_k=10)\n",
    "print(\"\\n optimal number of clusters: \", N_Clusters)\n",
    "\n",
    "kmeans_model = cluster_features(pd.DataFrame(X_scaled), N_Clusters)\n",
    "features_df['cluster'] = kmeans_model.labels_\n",
    "features_df['file'] = files\n",
    "\n",
    "model_save_path = './trained_model/'\n",
    "if not os.path.exists(model_save_path):\n",
    "    os.makedirs(model_save_path)\n",
    "\n",
    "joblib.dump(kmeans_model, f'{model_save_path}kmeans_model.pkl')\n",
    "\n",
    "\n",
    "\n",
    "print(\"\\n Cluster assignments\")\n",
    "print(features_df[['file', 'cluster']])\n",
    "\n",
    "features_df.to_csv(\"clustered_features_seglearn.csv\", index=False)\n",
    "print(\"\\n file saved\")"
   ]
  },
  {
   "cell_type": "code",
   "execution_count": 14,
   "metadata": {},
   "outputs": [
    {
     "data": {
      "image/png": "[encoded data removed]",
      "text/plain": [
       "<Figure size 800x600 with 2 Axes>"
      ]
     },
     "metadata": {},
     "output_type": "display_data"
    }
   ],
   "source": [
    "# Plotting the clusters\n",
    "import matplotlib.pyplot as plt\n",
    "from sklearn.decomposition import PCA\n",
    "from sklearn.manifold import TSNE\n",
    "\n",
    "\n",
    "pca = PCA(n_components=2)\n",
    "X_pca = pca.fit_transform(X_scaled)\n",
    "\n",
    "plt.figure(figsize=(8,6))\n",
    "scatter = plt.scatter(X_pca[:, 0], X_pca[:, 1], c=features_df['cluster'], cmap='tab10', s=50)\n",
    "plt.title(\"K Means(PCA)\")\n",
    "plt.xlabel(\"PC 1\")\n",
    "plt.ylabel(\"PC 2\")\n",
    "plt.colorbar(scatter, label=\"Cluster\")\n",
    "plt.grid(True)\n",
    "plt.show()\n"
   ]
  },
  {
   "cell_type": "code",
   "execution_count": 15,
   "metadata": {},
   "outputs": [
    {
     "data": {
      "image/png": "[encoded data removed]",
      "text/plain": [
       "<Figure size 800x600 with 2 Axes>"
      ]
     },
     "metadata": {},
     "output_type": "display_data"
    }
   ],
   "source": [
    "from sklearn.manifold import TSNE\n",
    "\n",
    "tsne = TSNE(n_components=2, random_state=42)\n",
    "X_tsne = tsne.fit_transform(X_scaled)\n",
    "\n",
    "plt.figure(figsize=(8, 6))\n",
    "scatter = plt.scatter(X_tsne[:, 0], X_tsne[:, 1], c=features_df['cluster'], cmap='tab10', s=50)\n",
    "plt.title(\"K-Means (t-SNE)\")\n",
    "plt.xlabel(\"t-SNE 1\")\n",
    "plt.ylabel(\"t-SNE 2\")\n",
    "plt.colorbar(scatter, label=\"Cluster\")\n",
    "plt.grid(True)\n",
    "plt.show()"
   ]
  },
  {
   "cell_type": "code",
   "execution_count": 16,
   "metadata": {},
   "outputs": [
    {
     "data": {
      "text/plain": [
       "['./trace_data/theft_protection/single_thread/version_3/faulty_data\\\\trace_trial1.json',\n",
       " './trace_data/theft_protection/single_thread/version_3/faulty_data\\\\trace_trial2.json',\n",
       " './trace_data/theft_protection/single_thread/version_3/faulty_data\\\\trace_trial3.json']"
      ]
     },
     "execution_count": 16,
     "metadata": {},
     "output_type": "execute_result"
    }
   ],
   "source": [
    "# Testing phase with faulty data\n",
    "\n",
    "test_data_path"
   ]
  },
  {
   "cell_type": "code",
   "execution_count": 17,
   "metadata": {},
   "outputs": [],
   "source": [
    "import os\n",
    "def read_process_test_data(file_path, sequence_length):\n",
    "    count = 0\n",
    "    output_directory = './test_data_processed/'\n",
    "    filename_dictionary = {}\n",
    "    if not os.path.exists(output_directory):\n",
    "        os.makedirs(output_directory)\n",
    "\n",
    "    for filename in file_path:\n",
    "        result = []\n",
    "        print(\"Reading file:\", filename)\n",
    "        count = count + 1\n",
    "        with open(filename, 'r') as f:\n",
    "            data = json.load(f)\n",
    "        \n",
    "        event_ids = [item[0] for item in data]\n",
    "        timestamps = [item[1] for item in data]\n",
    "        timestamp_difference = np.diff(timestamps).tolist()\n",
    "        trimmed_event_ids = event_ids[1:]\n",
    "\n",
    "        filename = f'trace_trial{count}' \n",
    "\n",
    "        for i in range(0, len(trimmed_event_ids) - sequence_length + 1, sequence_length):\n",
    "            event_id_seq_len = trimmed_event_ids[i:i+sequence_length]\n",
    "            timestamp_diff_seq_len = timestamp_difference[i:i+sequence_length]\n",
    "            result = [event_id_seq_len, timestamp_diff_seq_len]\n",
    "\n",
    "            index_start = i\n",
    "            index_end = i + sequence_length\n",
    "            new_filename = f'{filename}_{index_start}-{index_end}.json'\n",
    "            output_path = os.path.join(output_directory, new_filename)\n",
    "\n",
    "            #Saving the file\n",
    "            with open(output_path, 'w') as out_file:\n",
    "                json.dump(result, out_file)\n",
    "            \n",
    "            #Saving to dictionary for easy backtracking\n",
    "            filename_dictionary[new_filename] = {\n",
    "                \"source_file\": filename,\n",
    "                \"data_start_index\": index_start,\n",
    "                \"data_end_index\": index_end,\n",
    "                \"sequence_length\": sequence_length,\n",
    "                \"window_size\": window_size\n",
    "            }\n",
    "    \n",
    "    dictionary_path = f'{output_directory}/file_dict/'\n",
    "    if not os.path.exists(dictionary_path):\n",
    "        os.makedirs(dictionary_path)\n",
    "    \n",
    "    dict_path = os.path.join(dictionary_path,'filename_dict.json')\n",
    "\n",
    "    with open(dict_path, 'w') as track_dict:\n",
    "        json.dump(filename_dictionary, track_dict, indent=2)\n",
    "    \n",
    "    print(\"Filename Dictionary saved to :\", dict_path)"
   ]
  },
  {
   "cell_type": "code",
   "execution_count": 18,
   "metadata": {},
   "outputs": [
    {
     "name": "stdout",
     "output_type": "stream",
     "text": [
      "Reading file: ./trace_data/theft_protection/single_thread/version_3/normal\\train_data\\interval_0_110.json\n",
      "Reading file: ./trace_data/theft_protection/single_thread/version_3/normal\\train_data\\interval_1250_2000.json\n",
      "Reading file: ./trace_data/theft_protection/single_thread/version_3/normal\\train_data\\interval_150_900.json\n",
      "Reading file: ./trace_data/theft_protection/single_thread/version_3/normal\\train_data\\interval_2050_2300.json\n",
      "Filename Dictionary saved to : ./test_data_processed//file_dict/filename_dict.json\n"
     ]
    }
   ],
   "source": [
    "# processing the data\n",
    "sequence_length = 50\n",
    "train_data_processed = read_process_test_data(train_data_path,sequence_length)"
   ]
  },
  {
   "cell_type": "code",
   "execution_count": null,
   "metadata": {},
   "outputs": [],
   "source": []
  }
 ],
 "metadata": {
  "kernelspec": {
   "display_name": "Python 3",
   "language": "python",
   "name": "python3"
  },
  "language_info": {
   "codemirror_mode": {
    "name": "ipython",
    "version": 3
   },
   "file_extension": ".py",
   "mimetype": "text/x-python",
   "name": "python",
   "nbconvert_exporter": "python",
   "pygments_lexer": "ipython3",
   "version": "3.11.9"
  }
 },
 "nbformat": 4,
 "nbformat_minor": 2
}
